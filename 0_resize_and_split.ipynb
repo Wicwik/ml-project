{
 "cells": [
  {
   "cell_type": "markdown",
   "id": "da3d2b03",
   "metadata": {},
   "source": [
    "# 0. Resize and split dataset\n",
    "In this notebook, we will resize and split the MaskedFace-Net dataset.\n",
    "\n",
    "We will also provide downscaled datasets (224x224 and 128x128) in [next](https://github.com/Wicwik/ml-project/blob/master/maskedfaces_baseline.ipynb) notebook. "
   ]
  },
  {
   "cell_type": "code",
   "execution_count": 1,
   "id": "28d60d9f",
   "metadata": {},
   "outputs": [],
   "source": [
    "import cv2\n",
    "import glob\n",
    "\n",
    "# we often want to run downscaling and sit with family at the same time\n",
    "# this tqdm class can send progress to telegram using telegram bots\n",
    "from tqdm.contrib.telegram import tqdm\n",
    "\n",
    "import os\n",
    "import numpy as np"
   ]
  },
  {
   "cell_type": "code",
   "execution_count": 2,
   "id": "d77031c1",
   "metadata": {},
   "outputs": [],
   "source": [
    "_train_test_split = 0.15\n",
    "_width = 128\n",
    "_height = 128"
   ]
  },
  {
   "cell_type": "code",
   "execution_count": 3,
   "id": "4505e5e8",
   "metadata": {},
   "outputs": [],
   "source": [
    "os.makedirs('./resized128/train/0', exist_ok=True)\n",
    "os.makedirs('./resized128/train/1', exist_ok=True)\n",
    "os.makedirs('./resized128/test/0', exist_ok=True)\n",
    "os.makedirs('./resized128/test/1', exist_ok=True)"
   ]
  },
  {
   "cell_type": "markdown",
   "id": "c5c15101",
   "metadata": {},
   "source": [
    "We are resizing using Lanczos interpolation."
   ]
  },
  {
   "cell_type": "code",
   "execution_count": 4,
   "id": "a41edaf0",
   "metadata": {},
   "outputs": [
    {
     "data": {
      "application/vnd.jupyter.widget-view+json": {
       "model_id": "462caaac2e7d4f2eba9a6c81d6dd038a",
       "version_major": 2,
       "version_minor": 0
      },
      "text/plain": [
       "  0%|          | 0/66734 [00:00<?, ?it/s]"
      ]
     },
     "metadata": {},
     "output_type": "display_data"
    }
   ],
   "source": [
    "path = glob.glob('./masked_faces_dataset/0/*.jpg')\n",
    "for p in tqdm(path, token='5014943200:AAE9WepCFlwI-4M9kBxcflezF36s2YUoTYo', chat_id='528072721'):\n",
    "    img = cv2.imread(p, cv2.IMREAD_UNCHANGED)\n",
    "    dim = (_width, _height)\n",
    "    img = cv2.resize(img, dim, interpolation=cv2.INTER_LANCZOS4)\n",
    "    cv2.imwrite('./resized128/train/0/' + p.split('/')[-1], img)"
   ]
  },
  {
   "cell_type": "code",
   "execution_count": 5,
   "id": "81a63944",
   "metadata": {},
   "outputs": [
    {
     "data": {
      "application/vnd.jupyter.widget-view+json": {
       "model_id": "40a35e6450f6479eb5417c782c62ef97",
       "version_major": 2,
       "version_minor": 0
      },
      "text/plain": [
       "  0%|          | 0/67048 [00:00<?, ?it/s]"
      ]
     },
     "metadata": {},
     "output_type": "display_data"
    }
   ],
   "source": [
    "path = glob.glob('./masked_faces_dataset/1/*.jpg')\n",
    "for p in tqdm(path, token='5014943200:AAE9WepCFlwI-4M9kBxcflezF36s2YUoTYo', chat_id='528072721'):\n",
    "    img = cv2.imread(p, cv2.IMREAD_UNCHANGED)\n",
    "    dim = (_width, _height)\n",
    "    img = cv2.resize(img, dim, interpolation=cv2.INTER_LANCZOS4)\n",
    "    cv2.imwrite('./resized128/train/1/' + p.split('/')[-1], img)"
   ]
  },
  {
   "cell_type": "markdown",
   "id": "cdaa23c0",
   "metadata": {},
   "source": [
    "We choose at random from all paths and move than to test directory."
   ]
  },
  {
   "cell_type": "code",
   "execution_count": 6,
   "id": "f3221414",
   "metadata": {},
   "outputs": [],
   "source": [
    "path = glob.glob('./resized128/train/0/*.jpg') + glob.glob('./resized128/train/1/*.jpg')\n",
    "test_path = np.random.choice(path, int(np.fix(len(path)*_train_test_split)), replace=False)"
   ]
  },
  {
   "cell_type": "code",
   "execution_count": 7,
   "id": "23e92f66",
   "metadata": {},
   "outputs": [
    {
     "name": "stdout",
     "output_type": "stream",
     "text": [
      "20067 20067\n"
     ]
    }
   ],
   "source": [
    "print(len(set(test_path)), len(test_path)) # to be sure"
   ]
  },
  {
   "cell_type": "code",
   "execution_count": 8,
   "id": "25a19957",
   "metadata": {},
   "outputs": [],
   "source": [
    "for p in test_path:\n",
    "    os.rename(p, p.replace('train','test'))"
   ]
  }
 ],
 "metadata": {
  "kernelspec": {
   "display_name": "Python 3 (ipykernel)",
   "language": "python",
   "name": "python3"
  },
  "language_info": {
   "codemirror_mode": {
    "name": "ipython",
    "version": 3
   },
   "file_extension": ".py",
   "mimetype": "text/x-python",
   "name": "python",
   "nbconvert_exporter": "python",
   "pygments_lexer": "ipython3",
   "version": "3.8.5"
  }
 },
 "nbformat": 4,
 "nbformat_minor": 5
}

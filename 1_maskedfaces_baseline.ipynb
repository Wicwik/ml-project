{
 "cells": [
  {
   "cell_type": "markdown",
   "id": "826723ef",
   "metadata": {},
   "source": [
    "# 1. Baseline\n",
    "At first we will create a baseline to compare our results. Our baseline will be a simple convolutional neural network. This will create sort of template to use for trying out other models and experiments."
   ]
  },
  {
   "cell_type": "markdown",
   "id": "77577bc3",
   "metadata": {},
   "source": [
    "Import Keras and all required layers and utilities."
   ]
  },
  {
   "cell_type": "code",
   "execution_count": 19,
   "id": "76f58ade",
   "metadata": {},
   "outputs": [],
   "source": [
    "import tensorflow as tf\n",
    "\n",
    "from tensorflow import keras\n",
    "from keras.models import Sequential \n",
    "from keras.layers import Dropout, Flatten, Dense, GlobalAveragePooling2D, Conv2D, MaxPooling2D, Flatten\n",
    "from keras.preprocessing.image import ImageDataGenerator\n",
    "from keras.callbacks import ModelCheckpoint\n",
    "\n",
    "import matplotlib.pyplot as plt\n",
    "\n",
    "from sklearn.metrics import f1_score\n",
    "import numpy as np"
   ]
  },
  {
   "cell_type": "markdown",
   "id": "4531a1f1",
   "metadata": {},
   "source": [
    "We are also checking for Tensorflow cuda and cudnn version. We need to be sure that we have same (or newer) versions installed in our machine for Tensorflow to work correclty."
   ]
  },
  {
   "cell_type": "code",
   "execution_count": 2,
   "id": "11553b48",
   "metadata": {},
   "outputs": [
    {
     "name": "stdout",
     "output_type": "stream",
     "text": [
      "Cuda vesion: 11.2\n",
      "Cudnn vesion: 8\n"
     ]
    }
   ],
   "source": [
    "sys_details = tf.sysconfig.get_build_info()\n",
    "cuda_version = sys_details[\"cuda_version\"]\n",
    "print('Cuda vesion:', cuda_version)\n",
    "cudnn_version = sys_details[\"cudnn_version\"]  \n",
    "print('Cudnn vesion:', cudnn_version)"
   ]
  },
  {
   "cell_type": "markdown",
   "id": "516f5eb2",
   "metadata": {},
   "source": [
    "We have done some preprocessing (todo add link) (mostly only downscaling and test/train split) with the images. If you dont want to wait, you can download the the downscaled datasets:\n",
    "- Downscaled dataset to 224x224\n",
    "- Downscaled dataset to 128x128"
   ]
  },
  {
   "cell_type": "markdown",
   "id": "0b05193f",
   "metadata": {},
   "source": [
    "## Preparation and model creation\n",
    "Uncomment the configuration that you would like to train."
   ]
  },
  {
   "cell_type": "code",
   "execution_count": 4,
   "id": "f4abf01b",
   "metadata": {},
   "outputs": [],
   "source": [
    "!wget https://data.belanec.eu/maskedface/resized128.zip\n",
    "_train_dir = 'resized128/train'\n",
    "_test_dir = 'resized128/test'\n",
    "_img_width, _img_height = 128,128 \n",
    "_batch_size = 64\n",
    "_weights_name = 'maskedfaces128_baseline.h5'"
   ]
  },
  {
   "cell_type": "code",
   "execution_count": 3,
   "id": "e121a595",
   "metadata": {},
   "outputs": [],
   "source": [
    "# !wget https://data.belanec.eu/maskedface/resized224.zip\n",
    "# _train_dir = 'resized224/train'\n",
    "# _test_dir = 'resized224/test'\n",
    "# _img_width, _img_height = 224,224 \n",
    "# _batch_size = 64\n",
    "# _weights_name = 'maskedfaces224_baseline.h5'"
   ]
  },
  {
   "cell_type": "markdown",
   "id": "7726e85e",
   "metadata": {},
   "source": [
    "As computers ussualy don't have enought operating memory to store gigabytes of data, we are using data generators, which is a structure that allows [lazy evaluation](https://en.wikipedia.org/wiki/Lazy_evaluation) of images when training a model, so we don't have to constantly remember the whole dataset in memory.\n",
    "\n",
    "We have also added some shear_range, zoom_range and horizontal_flip features, to modify the dataset, so the model should behave better in real life scenarios.\n",
    "\n",
    "Keras generators also allow us to split training and validation data, which is usefull. We are splitting the dataset on 0.7 (train), 0.15 (valid), 0.15 (test) parts."
   ]
  },
  {
   "cell_type": "code",
   "execution_count": 5,
   "id": "2d75dc25",
   "metadata": {},
   "outputs": [
    {
     "name": "stdout",
     "output_type": "stream",
     "text": [
      "Found 96658 images belonging to 2 classes.\n",
      "Found 17057 images belonging to 2 classes.\n"
     ]
    }
   ],
   "source": [
    "train_datagen = ImageDataGenerator(\n",
    "    rescale=1./255,\n",
    "    shear_range=0.2,\n",
    "    zoom_range=0.2,\n",
    "    horizontal_flip=True,\n",
    "    validation_split=0.15) # set validation split\n",
    "\n",
    "train_generator = train_datagen.flow_from_directory(\n",
    "    _train_dir,\n",
    "    target_size=(_img_height, _img_width),\n",
    "    batch_size=_batch_size,\n",
    "    class_mode='binary',\n",
    "    subset='training') # set as training data\n",
    "\n",
    "valid_generator = train_datagen.flow_from_directory(\n",
    "    _train_dir, # same directory as training data\n",
    "    target_size=(_img_height, _img_width),\n",
    "    batch_size=_batch_size,\n",
    "    class_mode='binary',\n",
    "    subset='validation') # set as validation data"
   ]
  },
  {
   "cell_type": "code",
   "execution_count": 6,
   "id": "d8e2d858",
   "metadata": {},
   "outputs": [
    {
     "name": "stdout",
     "output_type": "stream",
     "text": [
      "Found 20067 images belonging to 2 classes.\n"
     ]
    }
   ],
   "source": [
    "test_datagen = ImageDataGenerator(rescale=1./255) \n",
    "\n",
    "test_generator = train_datagen.flow_from_directory(\n",
    "    _test_dir,\n",
    "    target_size=(_img_height, _img_width),\n",
    "    batch_size=_batch_size,\n",
    "    class_mode='binary')"
   ]
  },
  {
   "cell_type": "markdown",
   "id": "cf7c9fb3",
   "metadata": {},
   "source": [
    "As we can see, this is a simple model that contains 2 convolutional relu layers one pooling, one flatten and output dense layer. We are using Adam optimizer with 0.001 learning rate and accuracy metric."
   ]
  },
  {
   "cell_type": "code",
   "execution_count": 7,
   "id": "159b5168",
   "metadata": {},
   "outputs": [
    {
     "name": "stderr",
     "output_type": "stream",
     "text": [
      "2021-12-29 12:36:43.883566: I tensorflow/core/platform/cpu_feature_guard.cc:151] This TensorFlow binary is optimized with oneAPI Deep Neural Network Library (oneDNN) to use the following CPU instructions in performance-critical operations:  AVX2 FMA\n",
      "To enable them in other operations, rebuild TensorFlow with the appropriate compiler flags.\n",
      "2021-12-29 12:36:45.014827: I tensorflow/core/common_runtime/gpu/gpu_device.cc:1525] Created device /job:localhost/replica:0/task:0/device:GPU:0 with 9738 MB memory:  -> device: 0, name: NVIDIA GeForce GTX 1080 Ti, pci bus id: 0000:0c:00.0, compute capability: 6.1\n"
     ]
    },
    {
     "name": "stdout",
     "output_type": "stream",
     "text": [
      "Model: \"sequential\"\n",
      "_________________________________________________________________\n",
      " Layer (type)                Output Shape              Param #   \n",
      "=================================================================\n",
      " conv2d (Conv2D)             (None, 113, 113, 64)      49216     \n",
      "                                                                 \n",
      " conv2d_1 (Conv2D)           (None, 106, 106, 32)      131104    \n",
      "                                                                 \n",
      " max_pooling2d (MaxPooling2D  (None, 53, 53, 32)       0         \n",
      " )                                                               \n",
      "                                                                 \n",
      " flatten (Flatten)           (None, 89888)             0         \n",
      "                                                                 \n",
      " dense (Dense)               (None, 1)                 89889     \n",
      "                                                                 \n",
      "=================================================================\n",
      "Total params: 270,209\n",
      "Trainable params: 270,209\n",
      "Non-trainable params: 0\n",
      "_________________________________________________________________\n"
     ]
    }
   ],
   "source": [
    "model = Sequential()\n",
    "model.add(Conv2D(_img_width/2, (16, 16), activation='relu', input_shape=(_img_width, _img_height, 3)))\n",
    "model.add(Conv2D(_img_width/4, (8, 8), activation='relu'))\n",
    "model.add(MaxPooling2D(pool_size=(2, 2)))\n",
    "model.add(Flatten())\n",
    "model.add(Dense(1, activation='sigmoid'))\n",
    "\n",
    "model.compile(loss='binary_crossentropy', optimizer=keras.optimizers.Adam(0.001),  metrics=['accuracy'])\n",
    "model.summary()"
   ]
  },
  {
   "cell_type": "markdown",
   "id": "5e725f3e",
   "metadata": {},
   "source": [
    "## Training the model"
   ]
  },
  {
   "cell_type": "markdown",
   "id": "23ce2bab",
   "metadata": {},
   "source": [
    "We have also added a checkpoint save weights with the best validation loss. You can also [skip](#skip) the training."
   ]
  },
  {
   "cell_type": "code",
   "execution_count": 8,
   "id": "0555346a",
   "metadata": {},
   "outputs": [],
   "source": [
    "checkpointer = ModelCheckpoint(filepath=_weights_name, verbose=1, save_best_only=True)"
   ]
  },
  {
   "cell_type": "markdown",
   "id": "2e16f880",
   "metadata": {},
   "source": [
    "We will train the model for 10 epochs."
   ]
  },
  {
   "cell_type": "code",
   "execution_count": 9,
   "id": "5d6e13a6",
   "metadata": {},
   "outputs": [
    {
     "name": "stdout",
     "output_type": "stream",
     "text": [
      "Epoch 1/10\n"
     ]
    },
    {
     "name": "stderr",
     "output_type": "stream",
     "text": [
      "2021-12-29 12:37:21.703903: I tensorflow/stream_executor/cuda/cuda_dnn.cc:366] Loaded cuDNN version 8204\n"
     ]
    },
    {
     "name": "stdout",
     "output_type": "stream",
     "text": [
      "1511/1511 [==============================] - ETA: 0s - loss: 0.6980 - accuracy: 0.4999\n",
      "Epoch 00001: val_loss improved from inf to 0.69314, saving model to maskedfaces128_baseline.h5\n",
      "1511/1511 [==============================] - 412s 269ms/step - loss: 0.6980 - accuracy: 0.4999 - val_loss: 0.6931 - val_accuracy: 0.5014\n",
      "Epoch 2/10\n",
      "1511/1511 [==============================] - ETA: 0s - loss: 0.6932 - accuracy: 0.5003\n",
      "Epoch 00002: val_loss did not improve from 0.69314\n",
      "1511/1511 [==============================] - 387s 256ms/step - loss: 0.6932 - accuracy: 0.5003 - val_loss: 0.6931 - val_accuracy: 0.5013\n",
      "Epoch 3/10\n",
      "1511/1511 [==============================] - ETA: 0s - loss: 0.6931 - accuracy: 0.5026\n",
      "Epoch 00003: val_loss did not improve from 0.69314\n",
      "1511/1511 [==============================] - 380s 252ms/step - loss: 0.6931 - accuracy: 0.5026 - val_loss: 0.6932 - val_accuracy: 0.4987\n",
      "Epoch 4/10\n",
      "1511/1511 [==============================] - ETA: 0s - loss: 0.6932 - accuracy: 0.4992\n",
      "Epoch 00004: val_loss did not improve from 0.69314\n",
      "1511/1511 [==============================] - 374s 248ms/step - loss: 0.6932 - accuracy: 0.4992 - val_loss: 0.6932 - val_accuracy: 0.4987\n",
      "Epoch 5/10\n",
      "1511/1511 [==============================] - ETA: 0s - loss: 0.6932 - accuracy: 0.4998\n",
      "Epoch 00005: val_loss did not improve from 0.69314\n",
      "1511/1511 [==============================] - 374s 247ms/step - loss: 0.6932 - accuracy: 0.4998 - val_loss: 0.6932 - val_accuracy: 0.4987\n",
      "Epoch 6/10\n",
      "1511/1511 [==============================] - ETA: 0s - loss: 0.6932 - accuracy: 0.5009\n",
      "Epoch 00006: val_loss did not improve from 0.69314\n",
      "1511/1511 [==============================] - 373s 247ms/step - loss: 0.6932 - accuracy: 0.5009 - val_loss: 0.6932 - val_accuracy: 0.4987\n",
      "Epoch 7/10\n",
      "1511/1511 [==============================] - ETA: 0s - loss: 0.6932 - accuracy: 0.5011\n",
      "Epoch 00007: val_loss did not improve from 0.69314\n",
      "1511/1511 [==============================] - 375s 248ms/step - loss: 0.6932 - accuracy: 0.5011 - val_loss: 0.6932 - val_accuracy: 0.4987\n",
      "Epoch 8/10\n",
      "1511/1511 [==============================] - ETA: 0s - loss: 0.6932 - accuracy: 0.4987\n",
      "Epoch 00008: val_loss did not improve from 0.69314\n",
      "1511/1511 [==============================] - 378s 250ms/step - loss: 0.6932 - accuracy: 0.4987 - val_loss: 0.6931 - val_accuracy: 0.5013\n",
      "Epoch 9/10\n",
      "1511/1511 [==============================] - ETA: 0s - loss: 0.6932 - accuracy: 0.4989\n",
      "Epoch 00009: val_loss did not improve from 0.69314\n",
      "1511/1511 [==============================] - 378s 250ms/step - loss: 0.6932 - accuracy: 0.4989 - val_loss: 0.6931 - val_accuracy: 0.5013\n",
      "Epoch 10/10\n",
      "1511/1511 [==============================] - ETA: 0s - loss: 0.6932 - accuracy: 0.5017\n",
      "Epoch 00010: val_loss did not improve from 0.69314\n",
      "1511/1511 [==============================] - 380s 251ms/step - loss: 0.6932 - accuracy: 0.5017 - val_loss: 0.6931 - val_accuracy: 0.4987\n"
     ]
    }
   ],
   "source": [
    "hist = model.fit(train_generator, validation_data = valid_generator, epochs=10, callbacks=[checkpointer], verbose=True)"
   ]
  },
  {
   "cell_type": "markdown",
   "id": "8d83a711",
   "metadata": {},
   "source": [
    "Now we will plot the training history and evaluate our model on test data."
   ]
  },
  {
   "cell_type": "code",
   "execution_count": 10,
   "id": "0c71ddd9",
   "metadata": {},
   "outputs": [
    {
     "data": {
      "image/png": "[encoded data removed]",
      "text/plain": [
       "<Figure size 432x288 with 1 Axes>"
      ]
     },
     "metadata": {
      "needs_background": "light"
     },
     "output_type": "display_data"
    },
    {
     "data": {
      "image/png": "[encoded data removed]",
      "text/plain": [
       "<Figure size 432x288 with 1 Axes>"
      ]
     },
     "metadata": {
      "needs_background": "light"
     },
     "output_type": "display_data"
    }
   ],
   "source": [
    "plt.figure()\n",
    "plt.plot(hist.history['loss'], label='training loss')\n",
    "plt.plot(hist.history['val_loss'], label='validation loss')\n",
    "plt.legend(loc='best')\n",
    "\n",
    "plt.figure()\n",
    "plt.plot(hist.history['accuracy'], label='train accuracy')\n",
    "plt.plot(hist.history['val_accuracy'], label='validation accuracy')\n",
    "plt.legend(loc='best')\n",
    "plt.show()"
   ]
  },
  {
   "cell_type": "markdown",
   "id": "c8f53e74",
   "metadata": {},
   "source": [
    "<a id='skip'></a> If you want to skip the training, just uncomment the first or the second cell under this text. But don't forget to recompile the model with desired (128/224) configuration."
   ]
  },
  {
   "cell_type": "code",
   "execution_count": 11,
   "id": "268b69b9",
   "metadata": {},
   "outputs": [],
   "source": [
    "# !wget https://data.belanec.eu/maskedface/weights/maskedfaces128_baseline.h5\n",
    "# _weights_name = 'maskedfaces128_baseline.h5'"
   ]
  },
  {
   "cell_type": "code",
   "execution_count": 12,
   "id": "2c8b4582",
   "metadata": {},
   "outputs": [],
   "source": [
    "# !wget https://data.belanec.eu/maskedface/weights/maskedfaces224_baseline.h5\n",
    "# _weights_name = 'maskedfaces224_baseline.h5'"
   ]
  },
  {
   "cell_type": "code",
   "execution_count": 13,
   "id": "a3e3fda4",
   "metadata": {},
   "outputs": [],
   "source": [
    "model.load_weights(_weights_name)"
   ]
  },
  {
   "cell_type": "code",
   "execution_count": 14,
   "id": "1d1d8ca4",
   "metadata": {},
   "outputs": [
    {
     "name": "stdout",
     "output_type": "stream",
     "text": [
      "1511/1511 [==============================] - 316s 209ms/step - loss: 0.6931 - accuracy: 0.5013\n",
      "\n",
      "\n",
      "train loss: 0.6931440234184265 | train acc: 0.5012828707695007\n",
      "\n",
      "314/314 [==============================] - 73s 233ms/step - loss: 0.6931 - accuracy: 0.5004\n",
      "\n",
      "\n",
      "test loss: 0.693146824836731 | test acc: 0.5003737211227417\n"
     ]
    }
   ],
   "source": [
    "train_score = model.evaluate(train_generator)\n",
    "print(\"\\n\\ntrain loss: {} | train acc: {}\\n\".format(train_score[0], train_score[1]))\n",
    "\n",
    "test_score = model.evaluate(test_generator)\n",
    "print(\"\\n\\ntest loss: {} | test acc: {}\".format(test_score[0], test_score[1]))"
   ]
  },
  {
   "cell_type": "code",
   "execution_count": 32,
   "id": "a8351762",
   "metadata": {},
   "outputs": [],
   "source": [
    "model_predictions = model.predict(test_generator)"
   ]
  },
  {
   "cell_type": "code",
   "execution_count": 31,
   "id": "b5563e2c",
   "metadata": {},
   "outputs": [
    {
     "name": "stdout",
     "output_type": "stream",
     "text": [
      "F1 score:  0.6670211351854315\n"
     ]
    }
   ],
   "source": [
    "preds = np.array(model_predictions > 0.5).astype(int).T[0]\n",
    "labels = np.array(test_generator.classes)\n",
    "\n",
    "f1 = f1_score(labels, preds)\n",
    "print('F1 score: ', f1)"
   ]
  },
  {
   "cell_type": "markdown",
   "id": "d8a57fbe",
   "metadata": {},
   "source": [
    "## Conclusion\n",
    "\n",
    "As we can see, our simple baseline model ended up really bad with accuracy 0.5 which is basically accuracy of coin toss. We will try to improve this using some pretrained model in our [next](https://github.com/Wicwik/ml-project/blob/master/maskedfaces_mobilenetv2.ipynb) notebook. The training of this model was around 6 minutes per epoch on 128x128 images and around 15 minutes per epoch on 224x224 images."
   ]
  },
  {
   "cell_type": "markdown",
   "id": "bf6575fe",
   "metadata": {},
   "source": [
    "### 224x224 images\n",
    "Our baseline models with 224x224 images ended up with results:\n",
    "- train loss: 0.69\n",
    "- train accuracy: 0.5\n",
    "- test loss: 0.69\n",
    "- test accuracy: 0.5\n",
    "- F1 score: 0.67"
   ]
  },
  {
   "cell_type": "markdown",
   "id": "e04d9825",
   "metadata": {},
   "source": [
    "### 128x128 images\n",
    "Our baseline models with 224x224 images ended up with results:\n",
    "- train loss: 0.69\n",
    "- train accuracy: 0.5\n",
    "- test loss: 0.69\n",
    "- test accuracy: 0.5 \n",
    "- F1 score: 0.67 "
   ]
  }
 ],
 "metadata": {
  "kernelspec": {
   "display_name": "Python 3 (ipykernel)",
   "language": "python",
   "name": "python3"
  },
  "language_info": {
   "codemirror_mode": {
    "name": "ipython",
    "version": 3
   },
   "file_extension": ".py",
   "mimetype": "text/x-python",
   "name": "python",
   "nbconvert_exporter": "python",
   "pygments_lexer": "ipython3",
   "version": "3.8.5"
  }
 },
 "nbformat": 4,
 "nbformat_minor": 5
}

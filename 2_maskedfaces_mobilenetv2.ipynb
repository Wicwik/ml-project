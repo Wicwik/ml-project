{
 "cells": [
  {
   "cell_type": "markdown",
   "id": "8e7b42c8",
   "metadata": {},
   "source": [
    "# 2. MobileNetV2\n",
    "Our second attempt will be to use a pretrained model MobileNetV2. This model is relatively small compared to others, therefore it may train faster."
   ]
  },
  {
   "cell_type": "code",
   "execution_count": 1,
   "id": "76f58ade",
   "metadata": {},
   "outputs": [],
   "source": [
    "import tensorflow as tf\n",
    "\n",
    "from tensorflow import keras\n",
    "from keras.models import Sequential \n",
    "from keras.layers import Dropout, Flatten, Dense, GlobalAveragePooling2D\n",
    "from keras.preprocessing.image import ImageDataGenerator\n",
    "from keras.applications.mobilenet_v2 import MobileNetV2, preprocess_input\n",
    "from keras.callbacks import ModelCheckpoint\n",
    "\n",
    "import matplotlib.pyplot as plt\n",
    "\n",
    "from sklearn.metrics import f1_score\n",
    "import numpy as np"
   ]
  },
  {
   "cell_type": "code",
   "execution_count": 2,
   "id": "11553b48",
   "metadata": {},
   "outputs": [
    {
     "name": "stdout",
     "output_type": "stream",
     "text": [
      "Cuda vesion: 11.2\n",
      "Cudnn vesion: 8\n"
     ]
    }
   ],
   "source": [
    "sys_details = tf.sysconfig.get_build_info()\n",
    "cuda_version = sys_details[\"cuda_version\"]\n",
    "print('Cuda vesion:', cuda_version)\n",
    "cudnn_version = sys_details[\"cudnn_version\"]  \n",
    "print('Cudnn vesion:', cudnn_version)"
   ]
  },
  {
   "cell_type": "markdown",
   "id": "9863e3f1",
   "metadata": {},
   "source": [
    "## Preparation and model creation\n",
    "Uncomment the configuration that you would like to train.\n",
    "\n",
    "Compared to our baseline we will use batch size of 64 images."
   ]
  },
  {
   "cell_type": "code",
   "execution_count": 3,
   "id": "ca2e462f",
   "metadata": {},
   "outputs": [],
   "source": [
    "_train_dir = 'resized128/train'\n",
    "_test_dir = 'resized128/test'\n",
    "_img_width, _img_height = 128,128 \n",
    "_batch_size = 64\n",
    "_weights_name = 'maskedfaces128_mobilenetv2.h5'"
   ]
  },
  {
   "cell_type": "code",
   "execution_count": 4,
   "id": "e121a595",
   "metadata": {},
   "outputs": [],
   "source": [
    "# _train_dir = 'resized224/train'\n",
    "# _test_dir = 'resized224/test'\n",
    "# _img_width, _img_height = 224,224 \n",
    "# _batch_size = 64\n",
    "# _weights_name = 'maskedfaces224_mobilenetv2.h5'"
   ]
  },
  {
   "cell_type": "markdown",
   "id": "9fc985f0",
   "metadata": {},
   "source": [
    "Note, that we using a preprocessing function argument, that contains preprocess_input function for MobileNetV2."
   ]
  },
  {
   "cell_type": "code",
   "execution_count": 5,
   "id": "2d75dc25",
   "metadata": {},
   "outputs": [
    {
     "name": "stdout",
     "output_type": "stream",
     "text": [
      "Found 96658 images belonging to 2 classes.\n",
      "Found 17057 images belonging to 2 classes.\n"
     ]
    }
   ],
   "source": [
    "train_datagen = ImageDataGenerator(\n",
    "    preprocessing_function=preprocess_input,\n",
    "    rescale=1./255,\n",
    "    shear_range=0.2,\n",
    "    zoom_range=0.2,\n",
    "    horizontal_flip=True,\n",
    "    validation_split=0.15) # set validation split\n",
    "\n",
    "train_generator = train_datagen.flow_from_directory(\n",
    "    _train_dir,\n",
    "    target_size=(_img_height, _img_width),\n",
    "    batch_size=_batch_size,\n",
    "    class_mode='binary',\n",
    "    subset='training') # set as training data\n",
    "\n",
    "valid_generator = train_datagen.flow_from_directory(\n",
    "    _train_dir, # same directory as training data\n",
    "    target_size=(_img_height, _img_width),\n",
    "    batch_size=_batch_size,\n",
    "    class_mode='binary',\n",
    "    subset='validation') # set as validation data"
   ]
  },
  {
   "cell_type": "code",
   "execution_count": 6,
   "id": "e2e53de3",
   "metadata": {},
   "outputs": [
    {
     "name": "stdout",
     "output_type": "stream",
     "text": [
      "Found 20067 images belonging to 2 classes.\n"
     ]
    }
   ],
   "source": [
    "test_datagen = ImageDataGenerator(\n",
    "    preprocessing_function=preprocess_input,\n",
    "    rescale=1./255) \n",
    "\n",
    "test_generator = train_datagen.flow_from_directory(\n",
    "    _test_dir,\n",
    "    target_size=(_img_height, _img_width),\n",
    "    batch_size=_batch_size,\n",
    "    class_mode='binary')"
   ]
  },
  {
   "cell_type": "markdown",
   "id": "f149a3de",
   "metadata": {},
   "source": [
    "In this model we are adding a MobileNetV2 model pretrained on the imagenet dataset. We are also not allowing to MobileNetV2 to learn further. We will not do any other changes just add average pooling layer and ouput dense layer. We are using Adam optimizer with 0.01 learning rate and accuracy metric."
   ]
  },
  {
   "cell_type": "code",
   "execution_count": 7,
   "id": "4582e470",
   "metadata": {},
   "outputs": [
    {
     "name": "stderr",
     "output_type": "stream",
     "text": [
      "2021-12-30 15:42:17.180805: I tensorflow/core/platform/cpu_feature_guard.cc:151] This TensorFlow binary is optimized with oneAPI Deep Neural Network Library (oneDNN) to use the following CPU instructions in performance-critical operations:  AVX2 FMA\n",
      "To enable them in other operations, rebuild TensorFlow with the appropriate compiler flags.\n",
      "2021-12-30 15:42:18.344169: I tensorflow/core/common_runtime/gpu/gpu_device.cc:1525] Created device /job:localhost/replica:0/task:0/device:GPU:0 with 9536 MB memory:  -> device: 0, name: NVIDIA GeForce GTX 1080 Ti, pci bus id: 0000:0c:00.0, compute capability: 6.1\n"
     ]
    },
    {
     "name": "stdout",
     "output_type": "stream",
     "text": [
      "Model: \"sequential\"\n",
      "_________________________________________________________________\n",
      " Layer (type)                Output Shape              Param #   \n",
      "=================================================================\n",
      " mobilenetv2_1.00_128 (Funct  (None, 4, 4, 1280)       2257984   \n",
      " ional)                                                          \n",
      "                                                                 \n",
      " global_average_pooling2d (G  (None, 1280)             0         \n",
      " lobalAveragePooling2D)                                          \n",
      "                                                                 \n",
      " dense (Dense)               (None, 1)                 1281      \n",
      "                                                                 \n",
      "=================================================================\n",
      "Total params: 2,259,265\n",
      "Trainable params: 1,281\n",
      "Non-trainable params: 2,257,984\n",
      "_________________________________________________________________\n"
     ]
    }
   ],
   "source": [
    "model = Sequential()\n",
    "model.add(MobileNetV2(include_top = False, weights=\"imagenet\", input_shape=(_img_width, _img_height, 3)))\n",
    "model.add(GlobalAveragePooling2D())\n",
    "\n",
    "model.add(Dense(1, activation = 'sigmoid'))\n",
    "model.layers[0].trainable = False\n",
    "\n",
    "model.compile(loss='binary_crossentropy', optimizer=tf.keras.optimizers.Adam(0.01),  metrics=['accuracy'])\n",
    "model.summary()"
   ]
  },
  {
   "cell_type": "markdown",
   "id": "c9a1ffe2",
   "metadata": {},
   "source": [
    "## Training the model\n",
    "We have also added a checkpoint save weights with the best validation loss. You can also [skip](#skip) the training."
   ]
  },
  {
   "cell_type": "code",
   "execution_count": 8,
   "id": "1765b145",
   "metadata": {},
   "outputs": [],
   "source": [
    "checkpointer = ModelCheckpoint(filepath=_weights_name, verbose=1, save_best_only=True)"
   ]
  },
  {
   "cell_type": "markdown",
   "id": "b56cb003",
   "metadata": {},
   "source": [
    "We will train the model for 10 epochs."
   ]
  },
  {
   "cell_type": "code",
   "execution_count": 9,
   "id": "5d6e13a6",
   "metadata": {},
   "outputs": [
    {
     "name": "stdout",
     "output_type": "stream",
     "text": [
      "Epoch 1/10\n"
     ]
    },
    {
     "name": "stderr",
     "output_type": "stream",
     "text": [
      "2021-12-30 15:42:28.721319: I tensorflow/stream_executor/cuda/cuda_dnn.cc:366] Loaded cuDNN version 8204\n"
     ]
    },
    {
     "name": "stdout",
     "output_type": "stream",
     "text": [
      "1511/1511 [==============================] - ETA: 0s - loss: 0.6798 - accuracy: 0.5727\n",
      "Epoch 00001: val_loss improved from inf to 0.64894, saving model to maskedfaces128_mobilenetv2.h5\n",
      "1511/1511 [==============================] - 402s 263ms/step - loss: 0.6798 - accuracy: 0.5727 - val_loss: 0.6489 - val_accuracy: 0.5765\n"
     ]
    },
    {
     "name": "stderr",
     "output_type": "stream",
     "text": [
      "/home/rbelanec/Documents/ml-project/ml/lib/python3.8/site-packages/keras/engine/functional.py:1410: CustomMaskWarning: Custom mask layers require a config and must override get_config. When loading, the custom mask layer must be passed to the custom_objects argument.\n",
      "  layer_config = serialize_layer_fn(layer)\n"
     ]
    },
    {
     "name": "stdout",
     "output_type": "stream",
     "text": [
      "Epoch 2/10\n",
      "1511/1511 [==============================] - ETA: 0s - loss: 0.6219 - accuracy: 0.6540\n",
      "Epoch 00002: val_loss did not improve from 0.64894\n",
      "1511/1511 [==============================] - 388s 257ms/step - loss: 0.6219 - accuracy: 0.6540 - val_loss: 0.7658 - val_accuracy: 0.5125\n",
      "Epoch 3/10\n",
      "1511/1511 [==============================] - ETA: 0s - loss: 0.5856 - accuracy: 0.7012\n",
      "Epoch 00003: val_loss improved from 0.64894 to 0.62451, saving model to maskedfaces128_mobilenetv2.h5\n",
      "1511/1511 [==============================] - 392s 260ms/step - loss: 0.5856 - accuracy: 0.7012 - val_loss: 0.6245 - val_accuracy: 0.6067\n",
      "Epoch 4/10\n",
      "1511/1511 [==============================] - ETA: 0s - loss: 0.5544 - accuracy: 0.7334\n",
      "Epoch 00004: val_loss did not improve from 0.62451\n",
      "1511/1511 [==============================] - 393s 260ms/step - loss: 0.5544 - accuracy: 0.7334 - val_loss: 0.6275 - val_accuracy: 0.6108\n",
      "Epoch 5/10\n",
      "1511/1511 [==============================] - ETA: 0s - loss: 0.5331 - accuracy: 0.7525\n",
      "Epoch 00005: val_loss improved from 0.62451 to 0.51631, saving model to maskedfaces128_mobilenetv2.h5\n",
      "1511/1511 [==============================] - 391s 259ms/step - loss: 0.5331 - accuracy: 0.7525 - val_loss: 0.5163 - val_accuracy: 0.7777\n",
      "Epoch 6/10\n",
      "1511/1511 [==============================] - ETA: 0s - loss: 0.5203 - accuracy: 0.7573\n",
      "Epoch 00006: val_loss improved from 0.51631 to 0.51362, saving model to maskedfaces128_mobilenetv2.h5\n",
      "1511/1511 [==============================] - 387s 256ms/step - loss: 0.5203 - accuracy: 0.7573 - val_loss: 0.5136 - val_accuracy: 0.7624\n",
      "Epoch 7/10\n",
      "1511/1511 [==============================] - ETA: 0s - loss: 0.5031 - accuracy: 0.7697\n",
      "Epoch 00007: val_loss improved from 0.51362 to 0.47565, saving model to maskedfaces128_mobilenetv2.h5\n",
      "1511/1511 [==============================] - 387s 256ms/step - loss: 0.5031 - accuracy: 0.7697 - val_loss: 0.4757 - val_accuracy: 0.8136\n",
      "Epoch 8/10\n",
      "1511/1511 [==============================] - ETA: 0s - loss: 0.4846 - accuracy: 0.7885\n",
      "Epoch 00008: val_loss improved from 0.47565 to 0.47546, saving model to maskedfaces128_mobilenetv2.h5\n",
      "1511/1511 [==============================] - 384s 254ms/step - loss: 0.4846 - accuracy: 0.7885 - val_loss: 0.4755 - val_accuracy: 0.8034\n",
      "Epoch 9/10\n",
      "1511/1511 [==============================] - ETA: 0s - loss: 0.4750 - accuracy: 0.7943\n",
      "Epoch 00009: val_loss did not improve from 0.47546\n",
      "1511/1511 [==============================] - 385s 255ms/step - loss: 0.4750 - accuracy: 0.7943 - val_loss: 0.4794 - val_accuracy: 0.7789\n",
      "Epoch 10/10\n",
      "1511/1511 [==============================] - ETA: 0s - loss: 0.4633 - accuracy: 0.8041\n",
      "Epoch 00010: val_loss did not improve from 0.47546\n",
      "1511/1511 [==============================] - 388s 257ms/step - loss: 0.4633 - accuracy: 0.8041 - val_loss: 0.4958 - val_accuracy: 0.7588\n"
     ]
    }
   ],
   "source": [
    "hist = model.fit(train_generator, validation_data = valid_generator, epochs=10, callbacks=[checkpointer], verbose=True)"
   ]
  },
  {
   "cell_type": "markdown",
   "id": "f977abd0",
   "metadata": {},
   "source": [
    "Now we will plot the training history and evaluate our model on test data."
   ]
  },
  {
   "cell_type": "code",
   "execution_count": 10,
   "id": "0c71ddd9",
   "metadata": {},
   "outputs": [
    {
     "data": {
      "image/png": "[encoded data removed]",
      "text/plain": [
       "<Figure size 432x288 with 1 Axes>"
      ]
     },
     "metadata": {
      "needs_background": "light"
     },
     "output_type": "display_data"
    },
    {
     "data": {
      "image/png": "[encoded data removed]",
      "text/plain": [
       "<Figure size 432x288 with 1 Axes>"
      ]
     },
     "metadata": {
      "needs_background": "light"
     },
     "output_type": "display_data"
    }
   ],
   "source": [
    "plt.figure()\n",
    "plt.plot(hist.history['loss'], label='training loss')\n",
    "plt.plot(hist.history['val_loss'], label='validation loss')\n",
    "plt.legend(loc='best')\n",
    "\n",
    "plt.figure()\n",
    "plt.plot(hist.history['accuracy'], label='train accuracy')\n",
    "plt.plot(hist.history['val_accuracy'], label='validation accuracy')\n",
    "plt.legend(loc='best')\n",
    "plt.show()"
   ]
  },
  {
   "cell_type": "markdown",
   "id": "90c94041",
   "metadata": {},
   "source": [
    "<a id='skip'></a> If you want to skip the training, just uncomment the first or the second cell under this text. But don't forget to recompile the model with desired (128/224) configuration."
   ]
  },
  {
   "cell_type": "code",
   "execution_count": 11,
   "id": "628a0493",
   "metadata": {},
   "outputs": [],
   "source": [
    "# !wget https://data.belanec.eu/maskedface/weights/maskedfaces128_mobilenetv2.h5\n",
    "# _weights_name = 'maskedfaces128_mobilenetv2.h5'"
   ]
  },
  {
   "cell_type": "code",
   "execution_count": 12,
   "id": "1977b0e4",
   "metadata": {},
   "outputs": [],
   "source": [
    "# !wget https://data.belanec.eu/maskedface/weights/maskedfaces224_mobilenetv2.h5\n",
    "# _weights_name = 'maskedfaces224_mobilenetv2.h5'"
   ]
  },
  {
   "cell_type": "code",
   "execution_count": 13,
   "id": "9ee32a3b",
   "metadata": {},
   "outputs": [],
   "source": [
    "model.load_weights(_weights_name)"
   ]
  },
  {
   "cell_type": "code",
   "execution_count": 14,
   "id": "1d1d8ca4",
   "metadata": {},
   "outputs": [
    {
     "name": "stdout",
     "output_type": "stream",
     "text": [
      "1511/1511 [==============================] - 327s 216ms/step - loss: 0.4702 - accuracy: 0.8075\n",
      "\n",
      "\n",
      "train loss: 0.47015270590782166 | train acc: 0.8074861764907837\n",
      "\n",
      "314/314 [==============================] - 72s 228ms/step - loss: 0.4679 - accuracy: 0.8134\n",
      "\n",
      "\n",
      "test loss: 0.4679005444049835 | test acc: 0.8133751749992371\n"
     ]
    }
   ],
   "source": [
    "train_score = model.evaluate(train_generator)\n",
    "print(\"\\n\\ntrain loss: {} | train acc: {}\\n\".format(train_score[0], train_score[1]))\n",
    "\n",
    "test_score = model.evaluate(test_generator)\n",
    "print(\"\\n\\ntest loss: {} | test acc: {}\".format(test_score[0], test_score[1]))"
   ]
  },
  {
   "cell_type": "code",
   "execution_count": 15,
   "id": "e07d975d",
   "metadata": {},
   "outputs": [],
   "source": [
    "model_predictions = model.predict(test_generator)"
   ]
  },
  {
   "cell_type": "code",
   "execution_count": 16,
   "id": "f01e79be",
   "metadata": {},
   "outputs": [
    {
     "name": "stdout",
     "output_type": "stream",
     "text": [
      "F1 score:  0.5582982495014404\n"
     ]
    }
   ],
   "source": [
    "preds = np.array(model_predictions > 0.5).astype(int).T[0]\n",
    "labels = np.array(test_generator.classes)\n",
    "\n",
    "f1 = f1_score(labels, preds)\n",
    "print('F1 score: ', f1)"
   ]
  },
  {
   "cell_type": "markdown",
   "id": "3ef63d7b",
   "metadata": {},
   "source": [
    "## Conclusion\n",
    "\n",
    "Our model with pretrained MobileNetV2 model with disabled learning ended up with much better accuracy, but if look at the F1 score it's still bad. We think we can go further and experiment with other pretrained nets or add more layers after the pretrained net. We will continue in [next](https://github.com/Wicwik/ml-project/blob/master/3_maskedfaces_xception.ipynb) notebook. The training of this model was around 6 minutes per epoch on 128x128 images and around 16 minutes per epoch on 224x224 images."
   ]
  },
  {
   "cell_type": "markdown",
   "id": "f90c659f",
   "metadata": {},
   "source": [
    "### 224x224 images\n",
    "Our MobileNetV2 model with 224x224 images ended up with results:\n",
    "- train loss: 0.29\n",
    "- train accuracy: 0.89\n",
    "- test loss: 0.29\n",
    "- test accuracy: 0.89\n",
    "- F1 score: 0.51"
   ]
  },
  {
   "cell_type": "markdown",
   "id": "38ce8daf",
   "metadata": {},
   "source": [
    "### 128x128 images\n",
    "Our MobileNetV2 model with 128x128 images ended up with results:\n",
    "- train loss: 0.47\n",
    "- train accuracy: 0.81\n",
    "- test loss: 0.47\n",
    "- test accuracy: 0.81\n",
    "- F1 score: 0.56"
   ]
  }
 ],
 "metadata": {
  "kernelspec": {
   "display_name": "Python 3 (ipykernel)",
   "language": "python",
   "name": "python3"
  },
  "language_info": {
   "codemirror_mode": {
    "name": "ipython",
    "version": 3
   },
   "file_extension": ".py",
   "mimetype": "text/x-python",
   "name": "python",
   "nbconvert_exporter": "python",
   "pygments_lexer": "ipython3",
   "version": "3.8.5"
  }
 },
 "nbformat": 4,
 "nbformat_minor": 5
}

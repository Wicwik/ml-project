{
 "cells": [
  {
   "cell_type": "markdown",
   "id": "8e7b42c8",
   "metadata": {},
   "source": [
    "# 2. MobileNetV2\n",
    "Our second attempt will be to use a pretrained model MobileNetV2. This model is relatively small compared to others, therefore it may train faster."
   ]
  },
  {
   "cell_type": "code",
   "execution_count": 1,
   "id": "76f58ade",
   "metadata": {},
   "outputs": [],
   "source": [
    "import tensorflow as tf\n",
    "\n",
    "from tensorflow import keras\n",
    "from keras.models import Sequential \n",
    "from keras.layers import Dropout, Flatten, Dense, GlobalAveragePooling2D\n",
    "from keras.preprocessing.image import ImageDataGenerator\n",
    "from keras.applications.mobilenet_v2 import MobileNetV2, preprocess_input\n",
    "from keras.callbacks import ModelCheckpoint\n",
    "\n",
    "import matplotlib.pyplot as plt\n",
    "\n",
    "from sklearn.metrics import f1_score\n",
    "import numpy as np"
   ]
  },
  {
   "cell_type": "code",
   "execution_count": 2,
   "id": "11553b48",
   "metadata": {},
   "outputs": [
    {
     "name": "stdout",
     "output_type": "stream",
     "text": [
      "Cuda vesion: 11.2\n",
      "Cudnn vesion: 8\n"
     ]
    }
   ],
   "source": [
    "sys_details = tf.sysconfig.get_build_info()\n",
    "cuda_version = sys_details[\"cuda_version\"]\n",
    "print('Cuda vesion:', cuda_version)\n",
    "cudnn_version = sys_details[\"cudnn_version\"]  \n",
    "print('Cudnn vesion:', cudnn_version)"
   ]
  },
  {
   "cell_type": "markdown",
   "id": "9863e3f1",
   "metadata": {},
   "source": [
    "## Preparation and model creation\n",
    "Uncomment the configuration that you would like to train.\n",
    "\n",
    "Compared to our baseline we will use batch size of 32 images."
   ]
  },
  {
   "cell_type": "code",
   "execution_count": 3,
   "id": "ca2e462f",
   "metadata": {},
   "outputs": [],
   "source": [
    "_train_dir = 'resized128/train'\n",
    "_test_dir = 'resized128/test'\n",
    "_img_width, _img_height = 128,128 \n",
    "_batch_size = 32\n",
    "_weights_name = 'maskedfaces128_mobilenetv2.h5'"
   ]
  },
  {
   "cell_type": "code",
   "execution_count": 4,
   "id": "e121a595",
   "metadata": {},
   "outputs": [],
   "source": [
    "# _train_dir = 'resized224/train'\n",
    "# _test_dir = 'resized224/test'\n",
    "# _img_width, _img_height = 224,224 \n",
    "# _batch_size = 32\n",
    "# _weights_name = 'maskedfaces224_mobilenetv2.h5'"
   ]
  },
  {
   "cell_type": "markdown",
   "id": "9fc985f0",
   "metadata": {},
   "source": [
    "Note, that we using a preprocessing function argument, that contains preprocess_input function for MobileNetV2."
   ]
  },
  {
   "cell_type": "code",
   "execution_count": 5,
   "id": "2d75dc25",
   "metadata": {},
   "outputs": [
    {
     "name": "stdout",
     "output_type": "stream",
     "text": [
      "Found 96658 images belonging to 2 classes.\n",
      "Found 17057 images belonging to 2 classes.\n"
     ]
    }
   ],
   "source": [
    "train_datagen = ImageDataGenerator(\n",
    "    preprocessing_function=preprocess_input,\n",
    "    rescale=1./255,\n",
    "    shear_range=0.2,\n",
    "    zoom_range=0.2,\n",
    "    horizontal_flip=True,\n",
    "    validation_split=0.15) # set validation split\n",
    "\n",
    "train_generator = train_datagen.flow_from_directory(\n",
    "    _train_dir,\n",
    "    target_size=(_img_height, _img_width),\n",
    "    batch_size=_batch_size,\n",
    "    class_mode='binary',\n",
    "    subset='training') # set as training data\n",
    "\n",
    "valid_generator = train_datagen.flow_from_directory(\n",
    "    _train_dir, # same directory as training data\n",
    "    target_size=(_img_height, _img_width),\n",
    "    batch_size=_batch_size,\n",
    "    class_mode='binary',\n",
    "    subset='validation') # set as validation data"
   ]
  },
  {
   "cell_type": "code",
   "execution_count": 6,
   "id": "e2e53de3",
   "metadata": {},
   "outputs": [
    {
     "name": "stdout",
     "output_type": "stream",
     "text": [
      "Found 20067 images belonging to 2 classes.\n"
     ]
    }
   ],
   "source": [
    "test_datagen = ImageDataGenerator(\n",
    "    preprocessing_function=preprocess_input,\n",
    "    rescale=1./255,\n",
    "    shear_range=0.2,\n",
    "    zoom_range=0.2,\n",
    "    horizontal_flip=True) \n",
    "\n",
    "test_generator = train_datagen.flow_from_directory(\n",
    "    _test_dir,\n",
    "    target_size=(_img_height, _img_width),\n",
    "    batch_size=_batch_size,\n",
    "    class_mode='binary')"
   ]
  },
  {
   "cell_type": "markdown",
   "id": "f149a3de",
   "metadata": {},
   "source": [
    "In this model we are adding a MobileNetV2 model pretrained on the imagenet dataset. We are also not allowing to MobileNetV2 to learn further. We will not do any other changes just add average pooling layer and ouput dense layer. We are using Adam optimizer with 0.01 learning rate and accuracy metric."
   ]
  },
  {
   "cell_type": "code",
   "execution_count": 7,
   "id": "4582e470",
   "metadata": {},
   "outputs": [
    {
     "name": "stderr",
     "output_type": "stream",
     "text": [
      "2021-12-29 14:17:53.812195: I tensorflow/core/platform/cpu_feature_guard.cc:151] This TensorFlow binary is optimized with oneAPI Deep Neural Network Library (oneDNN) to use the following CPU instructions in performance-critical operations:  AVX2 FMA\n",
      "To enable them in other operations, rebuild TensorFlow with the appropriate compiler flags.\n",
      "2021-12-29 14:17:54.334566: I tensorflow/core/common_runtime/gpu/gpu_device.cc:1525] Created device /job:localhost/replica:0/task:0/device:GPU:0 with 9716 MB memory:  -> device: 0, name: NVIDIA GeForce GTX 1080 Ti, pci bus id: 0000:0c:00.0, compute capability: 6.1\n"
     ]
    },
    {
     "name": "stdout",
     "output_type": "stream",
     "text": [
      "Model: \"sequential\"\n",
      "_________________________________________________________________\n",
      " Layer (type)                Output Shape              Param #   \n",
      "=================================================================\n",
      " mobilenetv2_1.00_128 (Funct  (None, 4, 4, 1280)       2257984   \n",
      " ional)                                                          \n",
      "                                                                 \n",
      " global_average_pooling2d (G  (None, 1280)             0         \n",
      " lobalAveragePooling2D)                                          \n",
      "                                                                 \n",
      " dense (Dense)               (None, 1)                 1281      \n",
      "                                                                 \n",
      "=================================================================\n",
      "Total params: 2,259,265\n",
      "Trainable params: 1,281\n",
      "Non-trainable params: 2,257,984\n",
      "_________________________________________________________________\n"
     ]
    }
   ],
   "source": [
    "model = Sequential()\n",
    "model.add(MobileNetV2(include_top = False, weights=\"imagenet\", input_shape=(_img_width, _img_height, 3)))\n",
    "model.add(GlobalAveragePooling2D())\n",
    "model.add(Dense(1, activation = 'sigmoid'))\n",
    "model.layers[0].trainable = False\n",
    "\n",
    "model.compile(loss='binary_crossentropy', optimizer=tf.keras.optimizers.Adam(0.01),  metrics=['accuracy'])\n",
    "model.summary()"
   ]
  },
  {
   "cell_type": "markdown",
   "id": "c9a1ffe2",
   "metadata": {},
   "source": [
    "## Training the model\n",
    "We have also added a checkpoint save weights with the best validation loss. You can also [skip](#skip) the training."
   ]
  },
  {
   "cell_type": "code",
   "execution_count": 8,
   "id": "1765b145",
   "metadata": {},
   "outputs": [],
   "source": [
    "checkpointer = ModelCheckpoint(filepath=_weights_name, verbose=1, save_best_only=True)"
   ]
  },
  {
   "cell_type": "markdown",
   "id": "b56cb003",
   "metadata": {},
   "source": [
    "We will train the model for 10 epochs."
   ]
  },
  {
   "cell_type": "code",
   "execution_count": 9,
   "id": "5d6e13a6",
   "metadata": {},
   "outputs": [
    {
     "name": "stdout",
     "output_type": "stream",
     "text": [
      "Epoch 1/10\n"
     ]
    },
    {
     "name": "stderr",
     "output_type": "stream",
     "text": [
      "2021-12-29 14:18:02.567795: I tensorflow/stream_executor/cuda/cuda_dnn.cc:366] Loaded cuDNN version 8204\n"
     ]
    },
    {
     "name": "stdout",
     "output_type": "stream",
     "text": [
      "3021/3021 [==============================] - ETA: 0s - loss: 0.6738 - accuracy: 0.5830\n",
      "Epoch 00001: val_loss improved from inf to 0.59585, saving model to maskedfaces128_mobilenetv2.h5\n"
     ]
    },
    {
     "name": "stderr",
     "output_type": "stream",
     "text": [
      "/home/rbelanec/Documents/ml-project/ml/lib/python3.8/site-packages/keras/engine/functional.py:1410: CustomMaskWarning: Custom mask layers require a config and must override get_config. When loading, the custom mask layer must be passed to the custom_objects argument.\n",
      "  layer_config = serialize_layer_fn(layer)\n"
     ]
    },
    {
     "name": "stdout",
     "output_type": "stream",
     "text": [
      "3021/3021 [==============================] - 458s 151ms/step - loss: 0.6738 - accuracy: 0.5830 - val_loss: 0.5958 - val_accuracy: 0.7327\n",
      "Epoch 2/10\n",
      "3021/3021 [==============================] - ETA: 0s - loss: 0.6051 - accuracy: 0.6713\n",
      "Epoch 00002: val_loss improved from 0.59585 to 0.54435, saving model to maskedfaces128_mobilenetv2.h5\n",
      "3021/3021 [==============================] - 423s 140ms/step - loss: 0.6051 - accuracy: 0.6713 - val_loss: 0.5444 - val_accuracy: 0.7765\n",
      "Epoch 3/10\n",
      "3021/3021 [==============================] - ETA: 0s - loss: 0.5630 - accuracy: 0.7147\n",
      "Epoch 00003: val_loss improved from 0.54435 to 0.51512, saving model to maskedfaces128_mobilenetv2.h5\n",
      "3021/3021 [==============================] - 423s 140ms/step - loss: 0.5630 - accuracy: 0.7147 - val_loss: 0.5151 - val_accuracy: 0.7872\n",
      "Epoch 4/10\n",
      "3021/3021 [==============================] - ETA: 0s - loss: 0.5269 - accuracy: 0.7469\n",
      "Epoch 00004: val_loss improved from 0.51512 to 0.48600, saving model to maskedfaces128_mobilenetv2.h5\n",
      "3021/3021 [==============================] - 434s 144ms/step - loss: 0.5269 - accuracy: 0.7469 - val_loss: 0.4860 - val_accuracy: 0.8093\n",
      "Epoch 5/10\n",
      "3021/3021 [==============================] - ETA: 0s - loss: 0.4992 - accuracy: 0.7721\n",
      "Epoch 00005: val_loss improved from 0.48600 to 0.47029, saving model to maskedfaces128_mobilenetv2.h5\n",
      "3021/3021 [==============================] - 432s 143ms/step - loss: 0.4992 - accuracy: 0.7721 - val_loss: 0.4703 - val_accuracy: 0.8109\n",
      "Epoch 6/10\n",
      "3021/3021 [==============================] - ETA: 0s - loss: 0.4845 - accuracy: 0.7799\n",
      "Epoch 00006: val_loss improved from 0.47029 to 0.44430, saving model to maskedfaces128_mobilenetv2.h5\n",
      "3021/3021 [==============================] - 424s 140ms/step - loss: 0.4845 - accuracy: 0.7799 - val_loss: 0.4443 - val_accuracy: 0.8323\n",
      "Epoch 7/10\n",
      "3021/3021 [==============================] - ETA: 0s - loss: 0.4663 - accuracy: 0.7926\n",
      "Epoch 00007: val_loss improved from 0.44430 to 0.43543, saving model to maskedfaces128_mobilenetv2.h5\n",
      "3021/3021 [==============================] - 433s 143ms/step - loss: 0.4663 - accuracy: 0.7926 - val_loss: 0.4354 - val_accuracy: 0.8305\n",
      "Epoch 8/10\n",
      "3021/3021 [==============================] - ETA: 0s - loss: 0.4534 - accuracy: 0.8015\n",
      "Epoch 00008: val_loss improved from 0.43543 to 0.42276, saving model to maskedfaces128_mobilenetv2.h5\n",
      "3021/3021 [==============================] - 429s 142ms/step - loss: 0.4534 - accuracy: 0.8015 - val_loss: 0.4228 - val_accuracy: 0.8380\n",
      "Epoch 9/10\n",
      "3021/3021 [==============================] - ETA: 0s - loss: 0.4441 - accuracy: 0.8068\n",
      "Epoch 00009: val_loss did not improve from 0.42276\n",
      "3021/3021 [==============================] - 426s 141ms/step - loss: 0.4441 - accuracy: 0.8068 - val_loss: 0.4321 - val_accuracy: 0.8243\n",
      "Epoch 10/10\n",
      "3021/3021 [==============================] - ETA: 0s - loss: 0.4267 - accuracy: 0.8190\n",
      "Epoch 00010: val_loss did not improve from 0.42276\n",
      "3021/3021 [==============================] - 426s 141ms/step - loss: 0.4267 - accuracy: 0.8190 - val_loss: 0.4892 - val_accuracy: 0.7354\n"
     ]
    }
   ],
   "source": [
    "hist = model.fit(train_generator, validation_data = valid_generator, epochs=10, callbacks=[checkpointer], verbose=True)"
   ]
  },
  {
   "cell_type": "markdown",
   "id": "f977abd0",
   "metadata": {},
   "source": [
    "Now we will plot the training history and evaluate our model on test data."
   ]
  },
  {
   "cell_type": "code",
   "execution_count": 10,
   "id": "0c71ddd9",
   "metadata": {},
   "outputs": [
    {
     "data": {
      "image/png": "[encoded data removed]",
      "text/plain": [
       "<Figure size 432x288 with 1 Axes>"
      ]
     },
     "metadata": {
      "needs_background": "light"
     },
     "output_type": "display_data"
    },
    {
     "data": {
      "image/png": "[encoded data removed]",
      "text/plain": [
       "<Figure size 432x288 with 1 Axes>"
      ]
     },
     "metadata": {
      "needs_background": "light"
     },
     "output_type": "display_data"
    }
   ],
   "source": [
    "plt.figure()\n",
    "plt.plot(hist.history['loss'], label='training loss')\n",
    "plt.plot(hist.history['val_loss'], label='validation loss')\n",
    "plt.legend(loc='best')\n",
    "\n",
    "plt.figure()\n",
    "plt.plot(hist.history['accuracy'], label='train accuracy')\n",
    "plt.plot(hist.history['val_accuracy'], label='validation accuracy')\n",
    "plt.legend(loc='best')\n",
    "plt.show()"
   ]
  },
  {
   "cell_type": "markdown",
   "id": "90c94041",
   "metadata": {},
   "source": [
    "<a id='skip'></a> If you want to skip the training, just uncomment the first or the second cell under this text. But don't forget to recompile the model with desired (128/224) configuration."
   ]
  },
  {
   "cell_type": "code",
   "execution_count": 11,
   "id": "628a0493",
   "metadata": {},
   "outputs": [],
   "source": [
    "# wget\n",
    "# _weights_name = 'maskedfaces128_mobilenetv2.h5'"
   ]
  },
  {
   "cell_type": "code",
   "execution_count": 12,
   "id": "1977b0e4",
   "metadata": {},
   "outputs": [],
   "source": [
    "# wget\n",
    "# _weights_name = 'maskedfaces128_mobilenetv2.h5'"
   ]
  },
  {
   "cell_type": "code",
   "execution_count": 13,
   "id": "9ee32a3b",
   "metadata": {},
   "outputs": [],
   "source": [
    "model.load_weights(_weights_name)"
   ]
  },
  {
   "cell_type": "code",
   "execution_count": 14,
   "id": "1d1d8ca4",
   "metadata": {},
   "outputs": [
    {
     "name": "stdout",
     "output_type": "stream",
     "text": [
      "3021/3021 [==============================] - 359s 119ms/step - loss: 0.4155 - accuracy: 0.8457\n",
      "\n",
      "\n",
      "train loss: 0.4154919385910034 | train acc: 0.8456827402114868\n",
      "\n",
      "628/628 [==============================] - 81s 129ms/step - loss: 0.4120 - accuracy: 0.8486\n",
      "\n",
      "\n",
      "test loss: 0.4120059013366699 | test acc: 0.8486071825027466\n"
     ]
    }
   ],
   "source": [
    "train_score = model.evaluate(train_generator)\n",
    "print(\"\\n\\ntrain loss: {} | train acc: {}\\n\".format(train_score[0], train_score[1]))\n",
    "\n",
    "test_score = model.evaluate(test_generator)\n",
    "print(\"\\n\\ntest loss: {} | test acc: {}\".format(test_score[0], test_score[1]))"
   ]
  },
  {
   "cell_type": "code",
   "execution_count": 15,
   "id": "e07d975d",
   "metadata": {},
   "outputs": [],
   "source": [
    "model_predictions = model.predict(test_generator)"
   ]
  },
  {
   "cell_type": "code",
   "execution_count": 16,
   "id": "f01e79be",
   "metadata": {},
   "outputs": [
    {
     "name": "stdout",
     "output_type": "stream",
     "text": [
      "F1 score:  0.5063466878222929\n"
     ]
    }
   ],
   "source": [
    "preds = np.array(model_predictions > 0.5).astype(int).T[0]\n",
    "labels = np.array(test_generator.classes)\n",
    "\n",
    "f1 = f1_score(labels, preds)\n",
    "print('F1 score: ', f1)"
   ]
  },
  {
   "cell_type": "markdown",
   "id": "3ef63d7b",
   "metadata": {},
   "source": [
    "## Conclusion\n",
    "\n",
    "Our model with pretrained MobileNetV2 model with disabled learning ended up with much better accuracy, but if look at the F1 score it's still bad. We think we can go further and experiment with other pretrained nets or add more layers after the pretrained net. We will continue in next notebook (TODO link). The training of this model was around 6 minutes per epoch on 128x128 images and around 16 minutes per epoch on 224x224 images."
   ]
  },
  {
   "cell_type": "markdown",
   "id": "f90c659f",
   "metadata": {},
   "source": [
    "### 224x224 images\n",
    "Our MobileNetV2 model with 224x224 images ended up with results:\n",
    "- train loss: 0.29\n",
    "- train accuracy: 0.89\n",
    "- test loss: 0.29\n",
    "- test accuracy: 0.89\n",
    "- F1 score: 0.51"
   ]
  },
  {
   "cell_type": "markdown",
   "id": "38ce8daf",
   "metadata": {},
   "source": [
    "### 128x128 images\n",
    "Our MobileNetV2 model with 128x128 images ended up with results:\n",
    "- train loss: 0.42\n",
    "- train accuracy: 0.85\n",
    "- test loss: 0.41\n",
    "- test accuracy: 0.85\n",
    "- F1 score: 0.51"
   ]
  },
  {
   "cell_type": "code",
   "execution_count": null,
   "id": "211e3db6",
   "metadata": {},
   "outputs": [],
   "source": []
  }
 ],
 "metadata": {
  "kernelspec": {
   "display_name": "Python 3 (ipykernel)",
   "language": "python",
   "name": "python3"
  },
  "language_info": {
   "codemirror_mode": {
    "name": "ipython",
    "version": 3
   },
   "file_extension": ".py",
   "mimetype": "text/x-python",
   "name": "python",
   "nbconvert_exporter": "python",
   "pygments_lexer": "ipython3",
   "version": "3.8.5"
  }
 },
 "nbformat": 4,
 "nbformat_minor": 5
}

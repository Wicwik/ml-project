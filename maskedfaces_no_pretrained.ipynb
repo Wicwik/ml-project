{
 "cells": [
  {
   "cell_type": "markdown",
   "id": "14a9f17c",
   "metadata": {},
   "source": [
    "# 4. No pretrained model\n",
    "\n",
    "Our last attempt will be to create a custom model without using a pretrained model. We will use our knowledge from tutorials. "
   ]
  },
  {
   "cell_type": "code",
   "execution_count": 1,
   "id": "76f58ade",
   "metadata": {},
   "outputs": [],
   "source": [
    "import tensorflow as tf\n",
    "\n",
    "from tensorflow import keras\n",
    "from keras.models import Sequential \n",
    "from keras.layers import Dropout, Flatten, Dense, GlobalAveragePooling2D, Conv2D, BatchNormalization, MaxPooling2D\n",
    "from keras.preprocessing.image import ImageDataGenerator\n",
    "from keras.callbacks import ModelCheckpoint\n",
    "\n",
    "import matplotlib.pyplot as plt"
   ]
  },
  {
   "cell_type": "code",
   "execution_count": 2,
   "id": "11553b48",
   "metadata": {},
   "outputs": [
    {
     "name": "stdout",
     "output_type": "stream",
     "text": [
      "Cuda vesion: 11.2\n",
      "Cudnn vesion: 8\n"
     ]
    }
   ],
   "source": [
    "sys_details = tf.sysconfig.get_build_info()\n",
    "cuda_version = sys_details[\"cuda_version\"]\n",
    "print('Cuda vesion:', cuda_version)\n",
    "cudnn_version = sys_details[\"cudnn_version\"]  \n",
    "print('Cudnn vesion:', cudnn_version)"
   ]
  },
  {
   "cell_type": "markdown",
   "id": "159239ff",
   "metadata": {},
   "source": [
    "## Preparation and model creation\n",
    "For this model, we are only using downsampled images to 128x128 as the difference between 224x224 and 128x128 downscales was not big and as our model is not as optimized as MobileNetV2 or Xception, we were getting OOM messages at 224x224 downscaled images."
   ]
  },
  {
   "cell_type": "code",
   "execution_count": 3,
   "id": "e121a595",
   "metadata": {},
   "outputs": [],
   "source": [
    "_train_dir = 'resized128/train'\n",
    "_test_dir = 'resized128/test'\n",
    "_img_width, _img_height = 128,128 \n",
    "_batch_size = 32\n",
    "_weights_name = 'maskedfaces128_no_pretrained.h5'"
   ]
  },
  {
   "cell_type": "code",
   "execution_count": 4,
   "id": "2d75dc25",
   "metadata": {},
   "outputs": [
    {
     "name": "stdout",
     "output_type": "stream",
     "text": [
      "Found 96658 images belonging to 2 classes.\n",
      "Found 17057 images belonging to 2 classes.\n"
     ]
    }
   ],
   "source": [
    "train_datagen = ImageDataGenerator(\n",
    "    rescale=1./255,\n",
    "    shear_range=0.2,\n",
    "    zoom_range=0.2,\n",
    "    horizontal_flip=True,\n",
    "    validation_split=0.15) # set validation split\n",
    "\n",
    "train_generator = train_datagen.flow_from_directory(\n",
    "    _train_dir,\n",
    "    target_size=(_img_height, _img_width),\n",
    "    batch_size=_batch_size,\n",
    "    class_mode='binary',\n",
    "    subset='training') # set as training data\n",
    "\n",
    "valid_generator = train_datagen.flow_from_directory(\n",
    "    _train_dir, # same directory as training data\n",
    "    target_size=(_img_height, _img_width),\n",
    "    batch_size=_batch_size,\n",
    "    class_mode='binary',\n",
    "    subset='validation') # set as validation data"
   ]
  },
  {
   "cell_type": "code",
   "execution_count": 5,
   "id": "e2e53de3",
   "metadata": {},
   "outputs": [
    {
     "name": "stdout",
     "output_type": "stream",
     "text": [
      "Found 20067 images belonging to 2 classes.\n"
     ]
    }
   ],
   "source": [
    "test_datagen = ImageDataGenerator(\n",
    "    rescale=1./255,\n",
    "    shear_range=0.2,\n",
    "    zoom_range=0.2,\n",
    "    horizontal_flip=True) \n",
    "\n",
    "test_generator = train_datagen.flow_from_directory(\n",
    "    _test_dir,\n",
    "    target_size=(_img_height, _img_width),\n",
    "    batch_size=_batch_size,\n",
    "    class_mode='binary')"
   ]
  },
  {
   "cell_type": "code",
   "execution_count": 6,
   "id": "159b5168",
   "metadata": {},
   "outputs": [
    {
     "name": "stderr",
     "output_type": "stream",
     "text": [
      "2021-12-28 23:05:54.614645: I tensorflow/core/platform/cpu_feature_guard.cc:151] This TensorFlow binary is optimized with oneAPI Deep Neural Network Library (oneDNN) to use the following CPU instructions in performance-critical operations:  AVX2 FMA\n",
      "To enable them in other operations, rebuild TensorFlow with the appropriate compiler flags.\n",
      "2021-12-28 23:05:55.097474: I tensorflow/core/common_runtime/gpu/gpu_device.cc:1525] Created device /job:localhost/replica:0/task:0/device:GPU:0 with 9569 MB memory:  -> device: 0, name: NVIDIA GeForce GTX 1080 Ti, pci bus id: 0000:0c:00.0, compute capability: 6.1\n"
     ]
    },
    {
     "name": "stdout",
     "output_type": "stream",
     "text": [
      "Model: \"sequential\"\n",
      "_________________________________________________________________\n",
      " Layer (type)                Output Shape              Param #   \n",
      "=================================================================\n",
      " conv2d (Conv2D)             (None, 128, 128, 64)      1792      \n",
      "                                                                 \n",
      " batch_normalization (BatchN  (None, 128, 128, 64)     512       \n",
      " ormalization)                                                   \n",
      "                                                                 \n",
      " conv2d_1 (Conv2D)           (None, 128, 128, 64)      36928     \n",
      "                                                                 \n",
      " batch_normalization_1 (Batc  (None, 128, 128, 64)     512       \n",
      " hNormalization)                                                 \n",
      "                                                                 \n",
      " max_pooling2d (MaxPooling2D  (None, 64, 64, 64)       0         \n",
      " )                                                               \n",
      "                                                                 \n",
      " dropout (Dropout)           (None, 64, 64, 64)        0         \n",
      "                                                                 \n",
      " conv2d_2 (Conv2D)           (None, 64, 64, 128)       73856     \n",
      "                                                                 \n",
      " batch_normalization_2 (Batc  (None, 64, 64, 128)      256       \n",
      " hNormalization)                                                 \n",
      "                                                                 \n",
      " conv2d_3 (Conv2D)           (None, 64, 64, 128)       147584    \n",
      "                                                                 \n",
      " batch_normalization_3 (Batc  (None, 64, 64, 128)      256       \n",
      " hNormalization)                                                 \n",
      "                                                                 \n",
      " max_pooling2d_1 (MaxPooling  (None, 32, 32, 128)      0         \n",
      " 2D)                                                             \n",
      "                                                                 \n",
      " dropout_1 (Dropout)         (None, 32, 32, 128)       0         \n",
      "                                                                 \n",
      " conv2d_4 (Conv2D)           (None, 32, 32, 256)       295168    \n",
      "                                                                 \n",
      " batch_normalization_4 (Batc  (None, 32, 32, 256)      128       \n",
      " hNormalization)                                                 \n",
      "                                                                 \n",
      " conv2d_5 (Conv2D)           (None, 32, 32, 256)       590080    \n",
      "                                                                 \n",
      " batch_normalization_5 (Batc  (None, 32, 32, 256)      128       \n",
      " hNormalization)                                                 \n",
      "                                                                 \n",
      " max_pooling2d_2 (MaxPooling  (None, 16, 16, 256)      0         \n",
      " 2D)                                                             \n",
      "                                                                 \n",
      " dropout_2 (Dropout)         (None, 16, 16, 256)       0         \n",
      "                                                                 \n",
      " conv2d_6 (Conv2D)           (None, 16, 16, 512)       1180160   \n",
      "                                                                 \n",
      " batch_normalization_6 (Batc  (None, 16, 16, 512)      64        \n",
      " hNormalization)                                                 \n",
      "                                                                 \n",
      " conv2d_7 (Conv2D)           (None, 16, 16, 512)       2359808   \n",
      "                                                                 \n",
      " batch_normalization_7 (Batc  (None, 16, 16, 512)      64        \n",
      " hNormalization)                                                 \n",
      "                                                                 \n",
      " max_pooling2d_3 (MaxPooling  (None, 8, 8, 512)        0         \n",
      " 2D)                                                             \n",
      "                                                                 \n",
      " dropout_3 (Dropout)         (None, 8, 8, 512)         0         \n",
      "                                                                 \n",
      " flatten (Flatten)           (None, 32768)             0         \n",
      "                                                                 \n",
      " dense (Dense)               (None, 1024)              33555456  \n",
      "                                                                 \n",
      " dense_1 (Dense)             (None, 512)               524800    \n",
      "                                                                 \n",
      " batch_normalization_8 (Batc  (None, 512)              2048      \n",
      " hNormalization)                                                 \n",
      "                                                                 \n",
      " dense_2 (Dense)             (None, 1)                 513       \n",
      "                                                                 \n",
      "=================================================================\n",
      "Total params: 38,770,113\n",
      "Trainable params: 38,768,129\n",
      "Non-trainable params: 1,984\n",
      "_________________________________________________________________\n"
     ]
    }
   ],
   "source": [
    "model = Sequential()\n",
    "model.add(Conv2D(_img_width/2, (3, 3), padding='same', activation='relu', input_shape=(_img_width, _img_height, 3)))\n",
    "model.add(BatchNormalization(axis=1))\n",
    "model.add(Conv2D(_img_width/2, (3, 3), padding='same', activation='relu'))\n",
    "model.add(BatchNormalization(axis=1))\n",
    "model.add(MaxPooling2D(pool_size=(2, 2), padding='same'))\n",
    "model.add(Dropout(0.20))\n",
    "\n",
    "model.add(Conv2D(_img_width, (3, 3), padding='same', activation='relu'))\n",
    "model.add(BatchNormalization(axis=1))\n",
    "model.add(Conv2D(_img_width, (3, 3), padding='same', activation='relu'))\n",
    "model.add(BatchNormalization(axis=1))\n",
    "model.add(MaxPooling2D(pool_size=(2, 2), padding='same'))\n",
    "model.add(Dropout(0.20))\n",
    "\n",
    "model.add(Conv2D(_img_width*2, (3, 3), padding='same', activation='relu'))\n",
    "model.add(BatchNormalization(axis=1))\n",
    "model.add(Conv2D(_img_width*2, (3, 3), padding='same', activation='relu'))\n",
    "model.add(BatchNormalization(axis=1))\n",
    "model.add(MaxPooling2D(pool_size=(2, 2), padding='same'))\n",
    "model.add(Dropout(0.20))\n",
    "\n",
    "model.add(Conv2D(_img_width*4, (3, 3), padding='same', activation='relu'))\n",
    "model.add(BatchNormalization(axis=1))\n",
    "model.add(Conv2D(_img_width*4, (3, 3), padding='same', activation='relu'))\n",
    "model.add(BatchNormalization(axis=1))\n",
    "model.add(MaxPooling2D(pool_size=(2, 2), padding='same'))\n",
    "model.add(Dropout(0.20))\n",
    "\n",
    "model.add(Flatten())\n",
    "model.add(Dense(_img_width*8, activation='relu'))\n",
    "model.add(Dense(_img_width*4, activation='relu'))\n",
    "model.add(BatchNormalization())\n",
    "model.add(Dense(1, activation='sigmoid'))\n",
    "\n",
    "model.compile(loss='binary_crossentropy', optimizer=tf.keras.optimizers.Adam(0.001),  metrics=['accuracy'])\n",
    "model.summary()"
   ]
  },
  {
   "cell_type": "markdown",
   "id": "21219d25",
   "metadata": {},
   "source": [
    "## Training the model\n",
    "We have also added a checkpoint save weights with the best validation loss. You can also [skip](#skip) the training."
   ]
  },
  {
   "cell_type": "code",
   "execution_count": 7,
   "id": "0555346a",
   "metadata": {},
   "outputs": [],
   "source": [
    "checkpointer = ModelCheckpoint(filepath=_weights_name, verbose=1, save_best_only=True)"
   ]
  },
  {
   "cell_type": "markdown",
   "id": "55dc8b5a",
   "metadata": {},
   "source": [
    "We will train the model for 15 epochs."
   ]
  },
  {
   "cell_type": "code",
   "execution_count": 8,
   "id": "5d6e13a6",
   "metadata": {},
   "outputs": [
    {
     "name": "stdout",
     "output_type": "stream",
     "text": [
      "Epoch 1/15\n"
     ]
    },
    {
     "name": "stderr",
     "output_type": "stream",
     "text": [
      "2021-12-28 23:06:03.976744: I tensorflow/stream_executor/cuda/cuda_dnn.cc:366] Loaded cuDNN version 8204\n"
     ]
    },
    {
     "name": "stdout",
     "output_type": "stream",
     "text": [
      "3021/3021 [==============================] - ETA: 0s - loss: 0.0396 - accuracy: 0.9868\n",
      "Epoch 00001: val_loss improved from inf to 0.74247, saving model to maskedfaces_no_pretrained.h5\n",
      "3021/3021 [==============================] - 455s 149ms/step - loss: 0.0396 - accuracy: 0.9868 - val_loss: 0.7425 - val_accuracy: 0.6575\n",
      "Epoch 2/15\n",
      "3021/3021 [==============================] - ETA: 0s - loss: 0.0123 - accuracy: 0.9962\n",
      "Epoch 00002: val_loss improved from 0.74247 to 0.00864, saving model to maskedfaces_no_pretrained.h5\n",
      "3021/3021 [==============================] - 431s 143ms/step - loss: 0.0123 - accuracy: 0.9962 - val_loss: 0.0086 - val_accuracy: 0.9975\n",
      "Epoch 3/15\n",
      "3021/3021 [==============================] - ETA: 0s - loss: 0.0109 - accuracy: 0.9972\n",
      "Epoch 00003: val_loss improved from 0.00864 to 0.00547, saving model to maskedfaces_no_pretrained.h5\n",
      "3021/3021 [==============================] - 431s 143ms/step - loss: 0.0109 - accuracy: 0.9972 - val_loss: 0.0055 - val_accuracy: 0.9984\n",
      "Epoch 4/15\n",
      "3021/3021 [==============================] - ETA: 0s - loss: 0.0091 - accuracy: 0.9974\n",
      "Epoch 00004: val_loss did not improve from 0.00547\n",
      "3021/3021 [==============================] - 423s 140ms/step - loss: 0.0091 - accuracy: 0.9974 - val_loss: 0.0086 - val_accuracy: 0.9974\n",
      "Epoch 5/15\n",
      "3021/3021 [==============================] - ETA: 0s - loss: 0.0071 - accuracy: 0.9980\n",
      "Epoch 00005: val_loss improved from 0.00547 to 0.00332, saving model to maskedfaces_no_pretrained.h5\n",
      "3021/3021 [==============================] - 424s 140ms/step - loss: 0.0071 - accuracy: 0.9980 - val_loss: 0.0033 - val_accuracy: 0.9989\n",
      "Epoch 6/15\n",
      "3021/3021 [==============================] - ETA: 0s - loss: 0.0059 - accuracy: 0.9984\n",
      "Epoch 00006: val_loss did not improve from 0.00332\n",
      "3021/3021 [==============================] - 420s 139ms/step - loss: 0.0059 - accuracy: 0.9984 - val_loss: 0.0058 - val_accuracy: 0.9983\n",
      "Epoch 7/15\n",
      "3021/3021 [==============================] - ETA: 0s - loss: 0.0057 - accuracy: 0.9985\n",
      "Epoch 00007: val_loss did not improve from 0.00332\n",
      "3021/3021 [==============================] - 421s 139ms/step - loss: 0.0057 - accuracy: 0.9985 - val_loss: 0.0069 - val_accuracy: 0.9983\n",
      "Epoch 8/15\n",
      "3021/3021 [==============================] - ETA: 0s - loss: 0.0052 - accuracy: 0.9986\n",
      "Epoch 00008: val_loss did not improve from 0.00332\n",
      "3021/3021 [==============================] - 427s 141ms/step - loss: 0.0052 - accuracy: 0.9986 - val_loss: 0.0361 - val_accuracy: 0.9901\n",
      "Epoch 9/15\n",
      "3021/3021 [==============================] - ETA: 0s - loss: 0.0044 - accuracy: 0.9988\n",
      "Epoch 00009: val_loss did not improve from 0.00332\n",
      "3021/3021 [==============================] - 422s 140ms/step - loss: 0.0044 - accuracy: 0.9988 - val_loss: 0.0150 - val_accuracy: 0.9966\n",
      "Epoch 10/15\n",
      "3021/3021 [==============================] - ETA: 0s - loss: 0.0041 - accuracy: 0.9989\n",
      "Epoch 00010: val_loss did not improve from 0.00332\n",
      "3021/3021 [==============================] - 426s 141ms/step - loss: 0.0041 - accuracy: 0.9989 - val_loss: 0.0095 - val_accuracy: 0.9971\n",
      "Epoch 11/15\n",
      "3021/3021 [==============================] - ETA: 0s - loss: 0.0041 - accuracy: 0.9989\n",
      "Epoch 00011: val_loss improved from 0.00332 to 0.00285, saving model to maskedfaces_no_pretrained.h5\n",
      "3021/3021 [==============================] - 421s 139ms/step - loss: 0.0041 - accuracy: 0.9989 - val_loss: 0.0028 - val_accuracy: 0.9994\n",
      "Epoch 12/15\n",
      "3021/3021 [==============================] - ETA: 0s - loss: 0.0035 - accuracy: 0.9990\n",
      "Epoch 00012: val_loss did not improve from 0.00285\n",
      "3021/3021 [==============================] - 422s 140ms/step - loss: 0.0035 - accuracy: 0.9990 - val_loss: 0.0059 - val_accuracy: 0.9988\n",
      "Epoch 13/15\n",
      "3021/3021 [==============================] - ETA: 0s - loss: 0.0034 - accuracy: 0.9990\n",
      "Epoch 00013: val_loss did not improve from 0.00285\n",
      "3021/3021 [==============================] - 421s 139ms/step - loss: 0.0034 - accuracy: 0.9990 - val_loss: 0.0035 - val_accuracy: 0.9990\n",
      "Epoch 14/15\n",
      "3021/3021 [==============================] - ETA: 0s - loss: 0.0032 - accuracy: 0.9992\n",
      "Epoch 00014: val_loss did not improve from 0.00285\n",
      "3021/3021 [==============================] - 418s 138ms/step - loss: 0.0032 - accuracy: 0.9992 - val_loss: 0.0045 - val_accuracy: 0.9992\n",
      "Epoch 15/15\n",
      "3021/3021 [==============================] - ETA: 0s - loss: 0.0032 - accuracy: 0.9992\n",
      "Epoch 00015: val_loss improved from 0.00285 to 0.00114, saving model to maskedfaces_no_pretrained.h5\n",
      "3021/3021 [==============================] - 414s 137ms/step - loss: 0.0032 - accuracy: 0.9992 - val_loss: 0.0011 - val_accuracy: 0.9996\n"
     ]
    }
   ],
   "source": [
    "hist = model.fit(train_generator, validation_data = valid_generator, epochs=15, callbacks=[checkpointer], verbose=True)"
   ]
  },
  {
   "cell_type": "markdown",
   "id": "60bd5178",
   "metadata": {},
   "source": [
    "Now we will plot the training history and evaluate our model on test data."
   ]
  },
  {
   "cell_type": "code",
   "execution_count": 9,
   "id": "0c71ddd9",
   "metadata": {},
   "outputs": [
    {
     "data": {
      "image/png": "[encoded data removed]",
      "text/plain": [
       "<Figure size 432x288 with 1 Axes>"
      ]
     },
     "metadata": {
      "needs_background": "light"
     },
     "output_type": "display_data"
    },
    {
     "data": {
      "image/png": "[encoded data removed]",
      "text/plain": [
       "<Figure size 432x288 with 1 Axes>"
      ]
     },
     "metadata": {
      "needs_background": "light"
     },
     "output_type": "display_data"
    }
   ],
   "source": [
    "plt.figure()\n",
    "plt.plot(hist.history['loss'], label='training loss')\n",
    "plt.plot(hist.history['val_loss'], label='validation loss')\n",
    "plt.legend(loc='best')\n",
    "\n",
    "plt.figure()\n",
    "plt.plot(hist.history['accuracy'], label='train accuracy')\n",
    "plt.plot(hist.history['val_accuracy'], label='validation accuracy')\n",
    "plt.legend(loc='best')\n",
    "plt.show()"
   ]
  },
  {
   "cell_type": "markdown",
   "id": "e0f89ec2",
   "metadata": {},
   "source": [
    "<a id='skip'></a> If you want to skip the training, just uncomment the first or the second cell under this text."
   ]
  },
  {
   "cell_type": "code",
   "execution_count": null,
   "id": "bd309856",
   "metadata": {},
   "outputs": [],
   "source": [
    "# wget\n",
    "# _weights_name = 'maskedfaces128_no_pretrained.h5'"
   ]
  },
  {
   "cell_type": "code",
   "execution_count": 10,
   "id": "367b1ac8",
   "metadata": {},
   "outputs": [],
   "source": [
    "model.load_weights(_weights_name)"
   ]
  },
  {
   "cell_type": "code",
   "execution_count": null,
   "id": "1d1d8ca4",
   "metadata": {},
   "outputs": [
    {
     "name": "stdout",
     "output_type": "stream",
     "text": [
      "3021/3021 [==============================] - 364s 120ms/step - loss: 0.0015 - accuracy: 0.9996\n",
      "\n",
      "\n",
      "train loss: 0.0014968521427363157 | train acc: 0.9996172189712524\n",
      "\n",
      "606/628 [===========================>..] - ETA: 2s - loss: 0.0028 - accuracy: 0.9992"
     ]
    }
   ],
   "source": [
    "train_score = model.evaluate(train_generator)\n",
    "print(\"\\n\\ntrain loss: {} | train acc: {}\\n\".format(train_score[0], train_score[1]))\n",
    "\n",
    "test_score = model.evaluate(test_generator)\n",
    "print(\"\\n\\ntest loss: {} | test acc: {}\".format(test_score[0], test_score[1]))"
   ]
  },
  {
   "cell_type": "code",
   "execution_count": null,
   "id": "cc7cbc74",
   "metadata": {},
   "outputs": [],
   "source": [
    "model_predictions = model.predict(test_generator)"
   ]
  },
  {
   "cell_type": "code",
   "execution_count": null,
   "id": "deb229c9",
   "metadata": {},
   "outputs": [],
   "source": [
    "preds = np.array(model_predictions > 0.5).astype(int).T[0]\n",
    "labels = np.array(test_generator.classes)\n",
    "\n",
    "f1 = f1_score(labels, preds)\n",
    "print('F1 score: ', f1)"
   ]
  },
  {
   "cell_type": "markdown",
   "id": "6020b42e",
   "metadata": {},
   "source": [
    "## Conclusion\n",
    "\n",
    "Our model with pretrained Xception model with disabled learning ended up with much better accuracy. The F1 score is still poor. We will continue in next notebook (TODO link), with our final custom network. The training of this model was around 6 minutes per epoch on 128x128 images."
   ]
  },
  {
   "cell_type": "markdown",
   "id": "970c4c4c",
   "metadata": {},
   "source": [
    "### 128x128 images\n",
    "Our custom model with 128x128 images ended up with results:\n",
    "- train loss: \n",
    "- train accuracy: \n",
    "- test loss: \n",
    "- test accuracy: \n",
    "- F1 score: "
   ]
  },
  {
   "cell_type": "code",
   "execution_count": null,
   "id": "9e01206f",
   "metadata": {},
   "outputs": [],
   "source": []
  }
 ],
 "metadata": {
  "kernelspec": {
   "display_name": "Python 3 (ipykernel)",
   "language": "python",
   "name": "python3"
  },
  "language_info": {
   "codemirror_mode": {
    "name": "ipython",
    "version": 3
   },
   "file_extension": ".py",
   "mimetype": "text/x-python",
   "name": "python",
   "nbconvert_exporter": "python",
   "pygments_lexer": "ipython3",
   "version": "3.8.5"
  }
 },
 "nbformat": 4,
 "nbformat_minor": 5
}

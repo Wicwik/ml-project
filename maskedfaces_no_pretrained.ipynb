{
 "cells": [
  {
   "cell_type": "markdown",
   "id": "50a259a8",
   "metadata": {},
   "source": [
    "# 4. No pretrained model\n",
    "\n",
    "Our last attempt will be to create a custom model without using a pretrained model. We will use our knowledge from tutorials. "
   ]
  },
  {
   "cell_type": "code",
   "execution_count": 1,
   "id": "76f58ade",
   "metadata": {},
   "outputs": [],
   "source": [
    "import tensorflow as tf\n",
    "\n",
    "from tensorflow import keras\n",
    "from keras.models import Sequential \n",
    "from keras.layers import Dropout, Flatten, Dense, GlobalAveragePooling2D, Conv2D, BatchNormalization, MaxPooling2D\n",
    "from keras.preprocessing.image import ImageDataGenerator\n",
    "from keras.callbacks import ModelCheckpoint\n",
    "\n",
    "from keras import regularizers\n",
    "\n",
    "import matplotlib.pyplot as plt\n",
    "\n",
    "from sklearn.metrics import f1_score\n",
    "import numpy as np"
   ]
  },
  {
   "cell_type": "code",
   "execution_count": 2,
   "id": "11553b48",
   "metadata": {},
   "outputs": [
    {
     "name": "stdout",
     "output_type": "stream",
     "text": [
      "Cuda vesion: 11.2\n",
      "Cudnn vesion: 8\n"
     ]
    }
   ],
   "source": [
    "sys_details = tf.sysconfig.get_build_info()\n",
    "cuda_version = sys_details[\"cuda_version\"]\n",
    "print('Cuda vesion:', cuda_version)\n",
    "cudnn_version = sys_details[\"cudnn_version\"]  \n",
    "print('Cudnn vesion:', cudnn_version)"
   ]
  },
  {
   "cell_type": "markdown",
   "id": "9272df99",
   "metadata": {},
   "source": [
    "## Preparation and model creation\n",
    "Uncomment the configuration that you would like to train."
   ]
  },
  {
   "cell_type": "code",
   "execution_count": 3,
   "id": "e121a595",
   "metadata": {},
   "outputs": [],
   "source": [
    "# _train_dir = 'resized128/train'\n",
    "# _test_dir = 'resized128/test'\n",
    "# _img_width, _img_height = 128,128 \n",
    "# _batch_size = 32\n",
    "# _weights_name = 'maskedfaces128_no_pretrained.h5'"
   ]
  },
  {
   "cell_type": "code",
   "execution_count": 3,
   "id": "5ba2e31a",
   "metadata": {},
   "outputs": [],
   "source": [
    "_train_dir = 'resized224/train'\n",
    "_test_dir = 'resized224/test'\n",
    "_img_width, _img_height = 224,224 \n",
    "_batch_size = 32\n",
    "_weights_name = 'maskedfaces224_no_pretrained.h5'"
   ]
  },
  {
   "cell_type": "code",
   "execution_count": 4,
   "id": "2d75dc25",
   "metadata": {},
   "outputs": [
    {
     "name": "stdout",
     "output_type": "stream",
     "text": [
      "Found 96659 images belonging to 2 classes.\n",
      "Found 17056 images belonging to 2 classes.\n"
     ]
    }
   ],
   "source": [
    "train_datagen = ImageDataGenerator(\n",
    "    rescale=1./255,\n",
    "    shear_range=0.2,\n",
    "    zoom_range=0.2,\n",
    "    horizontal_flip=True,\n",
    "    validation_split=0.15) # set validation split\n",
    "\n",
    "train_generator = train_datagen.flow_from_directory(\n",
    "    _train_dir,\n",
    "    target_size=(_img_height, _img_width),\n",
    "    batch_size=_batch_size,\n",
    "    class_mode='binary',\n",
    "    subset='training') # set as training data\n",
    "\n",
    "valid_generator = train_datagen.flow_from_directory(\n",
    "    _train_dir, # same directory as training data\n",
    "    target_size=(_img_height, _img_width),\n",
    "    batch_size=_batch_size,\n",
    "    class_mode='binary',\n",
    "    subset='validation') # set as validation data"
   ]
  },
  {
   "cell_type": "code",
   "execution_count": 5,
   "id": "e2e53de3",
   "metadata": {},
   "outputs": [
    {
     "name": "stdout",
     "output_type": "stream",
     "text": [
      "Found 20067 images belonging to 2 classes.\n"
     ]
    }
   ],
   "source": [
    "test_datagen = ImageDataGenerator(\n",
    "    rescale=1./255) \n",
    "\n",
    "test_generator = train_datagen.flow_from_directory(\n",
    "    _test_dir,\n",
    "    target_size=(_img_height, _img_width),\n",
    "    batch_size=_batch_size,\n",
    "    class_mode='binary')"
   ]
  },
  {
   "cell_type": "code",
   "execution_count": 6,
   "id": "159b5168",
   "metadata": {},
   "outputs": [],
   "source": [
    "# fisrt try was overfitting :(\n",
    "# model = Sequential()\n",
    "# model.add(Conv2D(_img_width/2, (3, 3), padding='same', activation='relu', input_shape=(_img_width, _img_height, 3)))\n",
    "# model.add(BatchNormalization(axis=1))\n",
    "# model.add(Conv2D(_img_width/2, (3, 3), padding='same', activation='relu'))\n",
    "# model.add(BatchNormalization(axis=1))\n",
    "# model.add(MaxPooling2D(pool_size=(2, 2), padding='same'))\n",
    "# model.add(Dropout(0.20))\n",
    "\n",
    "# model.add(Conv2D(_img_width, (3, 3), padding='same', activation='relu'))\n",
    "# model.add(BatchNormalization(axis=1))\n",
    "# model.add(Conv2D(_img_width, (3, 3), padding='same', activation='relu'))\n",
    "# model.add(BatchNormalization(axis=1))\n",
    "# model.add(MaxPooling2D(pool_size=(2, 2), padding='same'))\n",
    "# model.add(Dropout(0.20))\n",
    "\n",
    "# model.add(Conv2D(_img_width*2, (3, 3), padding='same', activation='relu'))\n",
    "# model.add(BatchNormalization(axis=1))\n",
    "# model.add(Conv2D(_img_width*2, (3, 3), padding='same', activation='relu'))\n",
    "# model.add(BatchNormalization(axis=1))\n",
    "# model.add(MaxPooling2D(pool_size=(2, 2), padding='same'))\n",
    "# model.add(Dropout(0.20))\n",
    "\n",
    "# model.add(Conv2D(_img_width*4, (3, 3), padding='same', activation='relu'))\n",
    "# model.add(BatchNormalization(axis=1))\n",
    "# model.add(Conv2D(_img_width*4, (3, 3), padding='same', activation='relu'))\n",
    "# model.add(BatchNormalization(axis=1))\n",
    "# model.add(MaxPooling2D(pool_size=(2, 2), padding='same'))\n",
    "# model.add(Dropout(0.20))\n",
    "\n",
    "# model.add(Flatten())\n",
    "# model.add(Dense(_img_width*8, activation='relu'))\n",
    "# model.add(Dense(_img_width*4, activation='relu'))\n",
    "# model.add(BatchNormalization())\n",
    "# model.add(Dense(1, activation='sigmoid'))\n",
    "\n",
    "# model.compile(loss='binary_crossentropy', optimizer=tf.keras.optimizers.Adam(0.001),  metrics=['accuracy'])\n",
    "# model.summary()"
   ]
  },
  {
   "cell_type": "code",
   "execution_count": 6,
   "id": "2b25ee8a",
   "metadata": {},
   "outputs": [
    {
     "name": "stdout",
     "output_type": "stream",
     "text": [
      "Model: \"sequential\"\n",
      "_________________________________________________________________\n",
      " Layer (type)                Output Shape              Param #   \n",
      "=================================================================\n",
      " conv2d (Conv2D)             (None, 224, 224, 64)      3136      \n",
      "                                                                 \n",
      " batch_normalization (BatchN  (None, 224, 224, 64)     896       \n",
      " ormalization)                                                   \n",
      "                                                                 \n",
      " max_pooling2d (MaxPooling2D  (None, 112, 112, 64)     0         \n",
      " )                                                               \n",
      "                                                                 \n",
      " dropout (Dropout)           (None, 112, 112, 64)      0         \n",
      "                                                                 \n",
      " conv2d_1 (Conv2D)           (None, 112, 112, 16)      9232      \n",
      "                                                                 \n",
      " batch_normalization_1 (Batc  (None, 112, 112, 16)     448       \n",
      " hNormalization)                                                 \n",
      "                                                                 \n",
      " max_pooling2d_1 (MaxPooling  (None, 56, 56, 16)       0         \n",
      " 2D)                                                             \n",
      "                                                                 \n",
      " dropout_1 (Dropout)         (None, 56, 56, 16)        0         \n",
      "                                                                 \n",
      " flatten (Flatten)           (None, 50176)             0         \n",
      "                                                                 \n",
      " dense (Dense)               (None, 8)                 401416    \n",
      "                                                                 \n",
      " dropout_2 (Dropout)         (None, 8)                 0         \n",
      "                                                                 \n",
      " batch_normalization_2 (Batc  (None, 8)                32        \n",
      " hNormalization)                                                 \n",
      "                                                                 \n",
      " dense_1 (Dense)             (None, 1)                 9         \n",
      "                                                                 \n",
      "=================================================================\n",
      "Total params: 415,169\n",
      "Trainable params: 414,481\n",
      "Non-trainable params: 688\n",
      "_________________________________________________________________\n"
     ]
    },
    {
     "name": "stderr",
     "output_type": "stream",
     "text": [
      "2021-12-30 17:10:41.218114: I tensorflow/core/platform/cpu_feature_guard.cc:151] This TensorFlow binary is optimized with oneAPI Deep Neural Network Library (oneDNN) to use the following CPU instructions in performance-critical operations:  AVX2 FMA\n",
      "To enable them in other operations, rebuild TensorFlow with the appropriate compiler flags.\n",
      "2021-12-30 17:10:41.750175: I tensorflow/core/common_runtime/gpu/gpu_device.cc:1525] Created device /job:localhost/replica:0/task:0/device:GPU:0 with 9584 MB memory:  -> device: 0, name: NVIDIA GeForce GTX 1080 Ti, pci bus id: 0000:0c:00.0, compute capability: 6.1\n"
     ]
    }
   ],
   "source": [
    "model = Sequential()\n",
    "model.add(Conv2D(64, (4, 4), padding='same', activation='relu', input_shape=(_img_width, _img_height, 3), kernel_regularizer=regularizers.l2(l=0.01), kernel_initializer='he_normal'))\n",
    "model.add(BatchNormalization(axis=1))\n",
    "model.add(MaxPooling2D(pool_size=(2, 2), padding='same'))\n",
    "model.add(Dropout(0.4))\n",
    "\n",
    "model.add(Conv2D(16, (3, 3), padding='same', activation='relu', kernel_regularizer=regularizers.l2(l=0.01), kernel_initializer='he_normal'))\n",
    "model.add(BatchNormalization(axis=1))\n",
    "model.add(MaxPooling2D(pool_size=(2, 2), padding='same'))\n",
    "model.add(Dropout(0.4))\n",
    "\n",
    "model.add(Flatten())\n",
    "model.add(Dense(8, activation='relu'))\n",
    "model.add(Dropout(0.2))\n",
    "model.add(BatchNormalization())\n",
    "model.add(Dense(1, activation='sigmoid'))\n",
    "\n",
    "model.compile(loss='binary_crossentropy', optimizer=tf.keras.optimizers.Adam(0.0001),  metrics=['accuracy'])\n",
    "model.summary()"
   ]
  },
  {
   "cell_type": "markdown",
   "id": "2afc5b38",
   "metadata": {},
   "source": [
    "## Training the model\n",
    "We have also added a checkpoint save weights with the best validation loss. You can also [skip](#skip) the training."
   ]
  },
  {
   "cell_type": "code",
   "execution_count": 7,
   "id": "0555346a",
   "metadata": {},
   "outputs": [],
   "source": [
    "checkpointer = ModelCheckpoint(filepath=_weights_name, verbose=1, save_best_only=True)"
   ]
  },
  {
   "cell_type": "markdown",
   "id": "91098514",
   "metadata": {},
   "source": [
    "We will train the model for 15 epochs."
   ]
  },
  {
   "cell_type": "code",
   "execution_count": null,
   "id": "5d6e13a6",
   "metadata": {},
   "outputs": [
    {
     "name": "stdout",
     "output_type": "stream",
     "text": [
      "Epoch 1/15\n"
     ]
    },
    {
     "name": "stderr",
     "output_type": "stream",
     "text": [
      "2021-12-30 17:10:49.930403: I tensorflow/stream_executor/cuda/cuda_dnn.cc:366] Loaded cuDNN version 8204\n"
     ]
    },
    {
     "name": "stdout",
     "output_type": "stream",
     "text": [
      "3021/3021 [==============================] - ETA: 0s - loss: 0.8888 - accuracy: 0.9719\n",
      "Epoch 00001: val_loss improved from inf to 0.45055, saving model to maskedfaces224_no_pretrained.h5\n",
      "3021/3021 [==============================] - 1079s 356ms/step - loss: 0.8888 - accuracy: 0.9719 - val_loss: 0.4506 - val_accuracy: 0.9576\n",
      "Epoch 2/15\n",
      "3021/3021 [==============================] - ETA: 0s - loss: 0.2023 - accuracy: 0.9896\n",
      "Epoch 00002: val_loss improved from 0.45055 to 0.14368, saving model to maskedfaces224_no_pretrained.h5\n",
      "3021/3021 [==============================] - 1061s 351ms/step - loss: 0.2023 - accuracy: 0.9896 - val_loss: 0.1437 - val_accuracy: 0.9874\n",
      "Epoch 3/15\n",
      "3021/3021 [==============================] - ETA: 0s - loss: 0.1002 - accuracy: 0.9907\n",
      "Epoch 00003: val_loss improved from 0.14368 to 0.11461, saving model to maskedfaces224_no_pretrained.h5\n",
      "3021/3021 [==============================] - 1046s 346ms/step - loss: 0.1002 - accuracy: 0.9907 - val_loss: 0.1146 - val_accuracy: 0.9787\n",
      "Epoch 4/15\n",
      "3021/3021 [==============================] - ETA: 0s - loss: 0.0721 - accuracy: 0.9917\n",
      "Epoch 00004: val_loss improved from 0.11461 to 0.06072, saving model to maskedfaces224_no_pretrained.h5\n",
      "3021/3021 [==============================] - 1040s 344ms/step - loss: 0.0721 - accuracy: 0.9917 - val_loss: 0.0607 - val_accuracy: 0.9934\n",
      "Epoch 5/15\n",
      " 236/3021 [=>............................] - ETA: 13:42 - loss: 0.0609 - accuracy: 0.9932"
     ]
    }
   ],
   "source": [
    "hist = model.fit(train_generator, validation_data = valid_generator, epochs=15, callbacks=[checkpointer], verbose=True)"
   ]
  },
  {
   "cell_type": "markdown",
   "id": "5834f772",
   "metadata": {},
   "source": [
    "Now we will plot the training history and evaluate our model on test data."
   ]
  },
  {
   "cell_type": "code",
   "execution_count": 10,
   "id": "0c71ddd9",
   "metadata": {},
   "outputs": [
    {
     "data": {
      "image/png": "[encoded data removed]",
      "text/plain": [
       "<Figure size 432x288 with 1 Axes>"
      ]
     },
     "metadata": {
      "needs_background": "light"
     },
     "output_type": "display_data"
    },
    {
     "data": {
      "image/png": "[encoded data removed]",
      "text/plain": [
       "<Figure size 432x288 with 1 Axes>"
      ]
     },
     "metadata": {
      "needs_background": "light"
     },
     "output_type": "display_data"
    }
   ],
   "source": [
    "plt.figure()\n",
    "plt.plot(hist.history['loss'], label='training loss')\n",
    "plt.plot(hist.history['val_loss'], label='validation loss')\n",
    "plt.legend(loc='best')\n",
    "\n",
    "plt.figure()\n",
    "plt.plot(hist.history['accuracy'], label='train accuracy')\n",
    "plt.plot(hist.history['val_accuracy'], label='validation accuracy')\n",
    "plt.legend(loc='best')\n",
    "plt.show()"
   ]
  },
  {
   "cell_type": "markdown",
   "id": "21d7ea41",
   "metadata": {},
   "source": [
    "<a id='skip'></a> If you want to skip the training, just uncomment the first or the second cell under this text. But don't forget to recompile the model with desired (128/224) configuration."
   ]
  },
  {
   "cell_type": "code",
   "execution_count": 11,
   "id": "7c111cec",
   "metadata": {},
   "outputs": [],
   "source": [
    "# !wget https://data.belanec.eu/maskedface/weights/maskedfaces128_no_pretrained.h5\n",
    "# _weights_name = 'maskedfaces128_no_pretrained.h5'"
   ]
  },
  {
   "cell_type": "code",
   "execution_count": null,
   "id": "10455bf5",
   "metadata": {},
   "outputs": [],
   "source": [
    "# !wget https://data.belanec.eu/maskedface/weights/maskedfaces224_no_pretrained.h5\n",
    "# _weights_name = 'maskedfaces224_no_pretrained.h5'"
   ]
  },
  {
   "cell_type": "code",
   "execution_count": 12,
   "id": "367b1ac8",
   "metadata": {},
   "outputs": [],
   "source": [
    "model.load_weights(_weights_name)"
   ]
  },
  {
   "cell_type": "code",
   "execution_count": 13,
   "id": "1d1d8ca4",
   "metadata": {},
   "outputs": [
    {
     "name": "stdout",
     "output_type": "stream",
     "text": [
      "3021/3021 [==============================] - 356s 118ms/step - loss: 0.0572 - accuracy: 0.9969\n",
      "\n",
      "\n",
      "train loss: 0.05719519406557083 | train acc: 0.9968755841255188\n",
      "\n",
      "628/628 [==============================] - 80s 127ms/step - loss: 0.0562 - accuracy: 0.9975\n",
      "\n",
      "\n",
      "test loss: 0.05621125176548958 | test acc: 0.9975083470344543\n"
     ]
    }
   ],
   "source": [
    "train_score = model.evaluate(train_generator)\n",
    "print(\"\\n\\ntrain loss: {} | train acc: {}\\n\".format(train_score[0], train_score[1]))\n",
    "\n",
    "test_score = model.evaluate(test_generator)\n",
    "print(\"\\n\\ntest loss: {} | test acc: {}\".format(test_score[0], test_score[1]))"
   ]
  },
  {
   "cell_type": "code",
   "execution_count": 14,
   "id": "6e452de8",
   "metadata": {},
   "outputs": [],
   "source": [
    "model_predictions = model.predict(test_generator)"
   ]
  },
  {
   "cell_type": "code",
   "execution_count": 17,
   "id": "deb229c9",
   "metadata": {},
   "outputs": [
    {
     "name": "stdout",
     "output_type": "stream",
     "text": [
      "F1 score:  0.4994768050226718\n"
     ]
    }
   ],
   "source": [
    "preds = np.array(model_predictions > 0.5).astype(int).T[0]\n",
    "labels = np.array(test_generator.classes)\n",
    "\n",
    "f1 = f1_score(labels, preds)\n",
    "print('F1 score: ', f1)"
   ]
  },
  {
   "cell_type": "markdown",
   "id": "29194d6b",
   "metadata": {},
   "source": [
    "## Conclusion\n",
    "\n",
    "Our model with pretrained Xception model with disabled learning ended up with much better accuracy. The F1 score is still poor. The training of this model was around 6 minutes per epoch on 128x128 images and around 20 minutes per epoch on 224x224 images."
   ]
  },
  {
   "cell_type": "markdown",
   "id": "9b298d4a",
   "metadata": {},
   "source": [
    "### 224x224 images\n",
    "Our custom model with 224x224 images ended up with results:\n",
    "- train loss: \n",
    "- train accuracy: \n",
    "- test loss: \n",
    "- test accuracy: \n",
    "- F1 score: "
   ]
  },
  {
   "cell_type": "markdown",
   "id": "8a2f5bd8",
   "metadata": {},
   "source": [
    "### 128x128 images\n",
    "Our custom model with 128x128 images ended up with results:\n",
    "- train loss: 0.06\n",
    "- train accuracy: 0.99\n",
    "- test loss: 0.06\n",
    "- test accuracy: 0.99\n",
    "- F1 score: 0.5 "
   ]
  }
 ],
 "metadata": {
  "kernelspec": {
   "display_name": "Python 3 (ipykernel)",
   "language": "python",
   "name": "python3"
  },
  "language_info": {
   "codemirror_mode": {
    "name": "ipython",
    "version": 3
   },
   "file_extension": ".py",
   "mimetype": "text/x-python",
   "name": "python",
   "nbconvert_exporter": "python",
   "pygments_lexer": "ipython3",
   "version": "3.8.5"
  }
 },
 "nbformat": 4,
 "nbformat_minor": 5
}
